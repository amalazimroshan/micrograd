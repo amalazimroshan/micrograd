{
  "nbformat": 4,
  "nbformat_minor": 0,
  "metadata": {
    "colab": {
      "provenance": [],
      "authorship_tag": "ABX9TyPw8hMVyFc9grEDPR2DDzRU",
      "include_colab_link": true
    },
    "kernelspec": {
      "name": "python3",
      "display_name": "Python 3"
    },
    "language_info": {
      "name": "python"
    }
  },
  "cells": [
    {
      "cell_type": "markdown",
      "metadata": {
        "id": "view-in-github",
        "colab_type": "text"
      },
      "source": [
        "<a href=\"https://colab.research.google.com/github/amalazimroshan/micrograd/blob/main/micrograd.ipynb\" target=\"_parent\"><img src=\"https://colab.research.google.com/assets/colab-badge.svg\" alt=\"Open In Colab\"/></a>"
      ]
    },
    {
      "cell_type": "code",
      "execution_count": null,
      "metadata": {
        "id": "64c7PK9sDKRG"
      },
      "outputs": [],
      "source": [
        "import math\n",
        "import numpy as np\n",
        "import matplotlib.pyplot as plt\n",
        "%matplotlib inline"
      ]
    },
    {
      "cell_type": "code",
      "source": [
        "def f(x):\n",
        "  return 3*x**2 - 4*x + 5"
      ],
      "metadata": {
        "id": "8ELsG6M-67b4"
      },
      "execution_count": null,
      "outputs": []
    },
    {
      "cell_type": "code",
      "source": [
        "xs = np.arange(-5, 5, 0.25)\n",
        "ys = f(xs)\n",
        "plt.plot(xs, ys)"
      ],
      "metadata": {
        "colab": {
          "base_uri": "https://localhost:8080/",
          "height": 447
        },
        "id": "nmzX9UXG7mtH",
        "outputId": "ac175fc4-b7b8-46d0-adc1-eb183cdb5ee2"
      },
      "execution_count": null,
      "outputs": [
        {
          "output_type": "execute_result",
          "data": {
            "text/plain": [
              "[<matplotlib.lines.Line2D at 0x79f245a036d0>]"
            ]
          },
          "metadata": {},
          "execution_count": 3
        },
        {
          "output_type": "display_data",
          "data": {
            "text/plain": [
              "<Figure size 640x480 with 1 Axes>"
            ],
            "image/png": "[encoded data removed]"
          },
          "metadata": {}
        }
      ]
    },
    {
      "cell_type": "code",
      "source": [
        "h = 0.0001\n",
        "x = 2/3\n",
        "(f(x + h) - f(x))/h"
      ],
      "metadata": {
        "colab": {
          "base_uri": "https://localhost:8080/"
        },
        "id": "mUxHqix97pUX",
        "outputId": "a1a57801-d810-4fff-91ee-eadec66f9502"
      },
      "execution_count": null,
      "outputs": [
        {
          "output_type": "execute_result",
          "data": {
            "text/plain": [
              "0.0002999999981767587"
            ]
          },
          "metadata": {},
          "execution_count": 4
        }
      ]
    },
    {
      "cell_type": "code",
      "source": [
        "h = 0.0001\n",
        "a = 2.0\n",
        "b = -3.0\n",
        "c = 10.0\n",
        "d1 = a*b + c\n",
        "c += h\n",
        "d2 = a*b + c\n",
        "print('d1',d1)\n",
        "print('d2',d2)\n",
        "print('slope', (d2 - d1)/h)"
      ],
      "metadata": {
        "colab": {
          "base_uri": "https://localhost:8080/"
        },
        "id": "XbU6ww1iop5m",
        "outputId": "7151708d-925b-47d0-9dcf-465947656a58"
      },
      "execution_count": null,
      "outputs": [
        {
          "output_type": "stream",
          "name": "stdout",
          "text": [
            "d1 4.0\n",
            "d2 4.0001\n",
            "slope 0.9999999999976694\n"
          ]
        }
      ]
    },
    {
      "cell_type": "code",
      "source": [
        "from graphviz import Digraph\n",
        "\n",
        "def trace(root):\n",
        "  # builds a set of all nodes and edges in a graph\n",
        "  nodes, edges = set(), set()\n",
        "  def build(v):\n",
        "    if v not in nodes:\n",
        "      nodes.add(v)\n",
        "      for child in v._prev:\n",
        "        edges.add((child, v))\n",
        "        build(child)\n",
        "  build(root)\n",
        "  return nodes, edges\n",
        "\n",
        "def draw_dot(root):\n",
        "  dot = Digraph(format='svg', graph_attr={'rankdir': 'LR'}) # LR = left to right\n",
        "\n",
        "  nodes, edges = trace(root)\n",
        "  for n in nodes:\n",
        "    uid = str(id(n))\n",
        "    # for any value in the graph, create a rectangular ('record') node for it\n",
        "    dot.node(name = uid, label = \"{ %s | data %.4f | grad %.4f }\" % (n.label, n.data, n.grad), shape='record')\n",
        "    if n._op:\n",
        "      # if this value is a result of some operation, create an op node for it\n",
        "      dot.node(name = uid + n._op, label = n._op)\n",
        "      # and connect this node to it\n",
        "      dot.edge(uid + n._op, uid)\n",
        "\n",
        "  for n1, n2 in edges:\n",
        "    # connect n1 to the op node of n2\n",
        "    dot.edge(str(id(n1)), str(id(n2)) + n2._op)\n",
        "\n",
        "  return dot"
      ],
      "metadata": {
        "id": "ekNBQ8NMzO1m"
      },
      "execution_count": null,
      "outputs": []
    },
    {
      "cell_type": "code",
      "source": [
        "class Value:\n",
        "\n",
        "  def __init__(self,data, _children=(),_op='',label=''):\n",
        "    self.data = data\n",
        "    self.grad = 0.0\n",
        "    self._backward = lambda: None\n",
        "    self._prev = set(_children)\n",
        "    self._op = _op\n",
        "    self.label = label\n",
        "\n",
        "  def __repr__(self):\n",
        "    return f\"Value({self.data})\"\n",
        "\n",
        "  def __add__(self,other):\n",
        "    other = other if isinstance(other,Value) else Value(other)\n",
        "    out = Value(self.data + other.data,(self,other),'+')\n",
        "    def _backward():\n",
        "      self.grad += 1.0 * out.grad\n",
        "      other.grad += 1.0 * out.grad\n",
        "    out._backward = _backward\n",
        "    return out\n",
        "\n",
        "  def __mul__(self,other):\n",
        "    other = other if isinstance(other,Value) else Value(other)\n",
        "    out = Value(self.data * other.data,(self,other),'*')\n",
        "    def _backward():\n",
        "      self.grad += other.data * out.grad\n",
        "      other.grad += self.data * out.grad\n",
        "    out._backward = _backward\n",
        "    return out\n",
        "\n",
        "  def __rmul__(self,other):\n",
        "    return self * other\n",
        "\n",
        "  def __neg__(self):\n",
        "    return self * -1\n",
        "\n",
        "  def __sub__(self,other):\n",
        "    return self + (-other)\n",
        "\n",
        "  def __rsub__(self,other):\n",
        "    return other + (-self)\n",
        "\n",
        "  def __radd__(self,other):\n",
        "    return self + other\n",
        "\n",
        "  def tanh(self):\n",
        "    n = self.data\n",
        "    t = (math.exp(2*n) - 1)/(math.exp(2*n) + 1)\n",
        "    out = Value(t,(self,),'tanh')\n",
        "    def _backward():\n",
        "      self.grad += (1-t**2) * out.grad\n",
        "    out._backward = _backward\n",
        "    return out\n",
        "\n",
        "  def exp(self):\n",
        "    x = self.data\n",
        "    out = Value(math.exp(x),(self,),'exp')\n",
        "    def _backward():\n",
        "      self.grad += out.data * out.grad  #out.grad is multiplied as a part of chain rule and o\n",
        "                                        #out.data is the local derivative of e^x\n",
        "    out._backward = _backward\n",
        "    return out\n",
        "\n",
        "  def __pow__(self,other):\n",
        "    assert isinstance(other,(int,float)), \"only supporting int/float powers for now\"\n",
        "    out = Value(self.data**other,(self,),f'**{other}')\n",
        "    def _backward():\n",
        "      self.grad += other * (self.data ** (other - 1)) * out.grad\n",
        "    out._backward = _backward\n",
        "    return out\n",
        "\n",
        "  def __truediv__(self,other):\n",
        "    return self * other**-1\n",
        "\n",
        "  def backward(self):\n",
        "    topo = []\n",
        "    visited = set()\n",
        "    def build_topo(v):\n",
        "      if v not in visited:\n",
        "        visited.add(v)\n",
        "        for child in v._prev:\n",
        "          build_topo(child)\n",
        "        topo.append(v)\n",
        "    build_topo(self)\n",
        "\n",
        "    self.grad = 1.0\n",
        "    for node in reversed(topo):\n",
        "      node._backward()\n"
      ],
      "metadata": {
        "id": "aNqWzZBitOaK"
      },
      "execution_count": null,
      "outputs": []
    },
    {
      "cell_type": "code",
      "source": [
        "x1 = Value(2.0,label='x1')\n",
        "x2 = Value(0.0,label='x2')\n",
        "w1 = Value(-3.0,label='w1')\n",
        "w2 = Value(1.0,label='w2')\n",
        "b = Value(6.8813735870195432,label='b')\n",
        "x1w1 = x1*w1; x1w1.label = 'x1w1'\n",
        "x2w2 = x2*w2; x2w2.label = 'x2w2'\n",
        "x1w1x2w2 = x1w1 + x2w2; x1w1x2w2.label = 'x1w1 + x2w2'\n",
        "n = x1w1x2w2 + b; n.label = 'n'\n",
        "# o = n.tanh(); o.label = 'o'\n",
        "e = (2*n).exp()\n",
        "o = (e - 1)/(e + 1)\n",
        "draw_dot(o)"
      ],
      "metadata": {
        "id": "_FyvBcarwRyf",
        "colab": {
          "base_uri": "https://localhost:8080/",
          "height": 321
        },
        "outputId": "8e625933-758e-46f7-cd8c-25e5771a919a"
      },
      "execution_count": null,
      "outputs": [
        {
          "output_type": "execute_result",
          "data": {
            "image/svg+xml": "<?xml version=\"1.0\" encoding=\"UTF-8\" standalone=\"no\"?>\n<!DOCTYPE svg PUBLIC \"-//W3C//DTD SVG 1.1//EN\"\n \"http://www.w3.org/Graphics/SVG/1.1/DTD/svg11.dtd\">\n<!-- Generated by graphviz version 2.43.0 (0)\n -->\n<!-- Title: %3 Pages: 1 -->\n<svg width=\"2917pt\" height=\"210pt\"\n viewBox=\"0.00 0.00 2917.00 210.00\" xmlns=\"http://www.w3.org/2000/svg\" xmlns:xlink=\"http://www.w3.org/1999/xlink\">\n<g id=\"graph0\" class=\"graph\" transform=\"scale(1 1) rotate(0) translate(4 206)\">\n<title>%3</title>\n<polygon fill=\"white\" stroke=\"transparent\" points=\"-4,4 -4,-206 2913,-206 2913,4 -4,4\"/>\n<!-- 134080569728528 -->\n<g id=\"node1\" class=\"node\">\n<title>134080569728528</title>\n<polygon fill=\"none\" stroke=\"black\" points=\"1670,-136.5 1670,-172.5 1857,-172.5 1857,-136.5 1670,-136.5\"/>\n<text text-anchor=\"middle\" x=\"1680\" y=\"-150.8\" font-family=\"Times,serif\" font-size=\"14.00\"> </text>\n<polyline fill=\"none\" stroke=\"black\" points=\"1690,-136.5 1690,-172.5 \"/>\n<text text-anchor=\"middle\" x=\"1732.5\" y=\"-150.8\" font-family=\"Times,serif\" font-size=\"14.00\">data &#45;1.0000</text>\n<polyline fill=\"none\" stroke=\"black\" points=\"1775,-136.5 1775,-172.5 \"/>\n<text text-anchor=\"middle\" x=\"1816\" y=\"-150.8\" font-family=\"Times,serif\" font-size=\"14.00\">grad 0.0000</text>\n</g>\n<!-- 134080569725408+ -->\n<g id=\"node28\" class=\"node\">\n<title>134080569725408+</title>\n<ellipse fill=\"none\" stroke=\"black\" cx=\"1920\" cy=\"-126.5\" rx=\"27\" ry=\"18\"/>\n<text text-anchor=\"middle\" x=\"1920\" y=\"-122.8\" font-family=\"Times,serif\" font-size=\"14.00\">+</text>\n</g>\n<!-- 134080569728528&#45;&gt;134080569725408+ -->\n<g id=\"edge28\" class=\"edge\">\n<title>134080569728528&#45;&gt;134080569725408+</title>\n<path fill=\"none\" stroke=\"black\" d=\"M1857.05,-137.73C1866.54,-136.01 1875.71,-134.35 1883.95,-132.85\"/>\n<polygon fill=\"black\" stroke=\"black\" points=\"1884.64,-136.28 1893.85,-131.06 1883.39,-129.4 1884.64,-136.28\"/>\n</g>\n<!-- 134080569723440 -->\n<g id=\"node2\" class=\"node\">\n<title>134080569723440</title>\n<polygon fill=\"none\" stroke=\"black\" points=\"1672.5,-81.5 1672.5,-117.5 1854.5,-117.5 1854.5,-81.5 1672.5,-81.5\"/>\n<text text-anchor=\"middle\" x=\"1682.5\" y=\"-95.8\" font-family=\"Times,serif\" font-size=\"14.00\"> </text>\n<polyline fill=\"none\" stroke=\"black\" points=\"1692.5,-81.5 1692.5,-117.5 \"/>\n<text text-anchor=\"middle\" x=\"1732.5\" y=\"-95.8\" font-family=\"Times,serif\" font-size=\"14.00\">data 5.8284</text>\n<polyline fill=\"none\" stroke=\"black\" points=\"1772.5,-81.5 1772.5,-117.5 \"/>\n<text text-anchor=\"middle\" x=\"1813.5\" y=\"-95.8\" font-family=\"Times,serif\" font-size=\"14.00\">grad 0.0000</text>\n</g>\n<!-- 134080569721280+ -->\n<g id=\"node13\" class=\"node\">\n<title>134080569721280+</title>\n<ellipse fill=\"none\" stroke=\"black\" cx=\"1920\" cy=\"-71.5\" rx=\"27\" ry=\"18\"/>\n<text text-anchor=\"middle\" x=\"1920\" y=\"-67.8\" font-family=\"Times,serif\" font-size=\"14.00\">+</text>\n</g>\n<!-- 134080569723440&#45;&gt;134080569721280+ -->\n<g id=\"edge13\" class=\"edge\">\n<title>134080569723440&#45;&gt;134080569721280+</title>\n<path fill=\"none\" stroke=\"black\" d=\"M1854.82,-83.13C1865.07,-81.27 1875.01,-79.47 1883.88,-77.87\"/>\n<polygon fill=\"black\" stroke=\"black\" points=\"1884.54,-81.3 1893.75,-76.08 1883.29,-74.42 1884.54,-81.3\"/>\n</g>\n<!-- 134080569723440&#45;&gt;134080569725408+ -->\n<g id=\"edge17\" class=\"edge\">\n<title>134080569723440&#45;&gt;134080569725408+</title>\n<path fill=\"none\" stroke=\"black\" d=\"M1854.82,-115.28C1865.07,-117.08 1875.01,-118.81 1883.88,-120.36\"/>\n<polygon fill=\"black\" stroke=\"black\" points=\"1883.3,-123.81 1893.75,-122.09 1884.5,-116.92 1883.3,-123.81\"/>\n</g>\n<!-- 134080569723440exp -->\n<g id=\"node3\" class=\"node\">\n<title>134080569723440exp</title>\n<ellipse fill=\"none\" stroke=\"black\" cx=\"1607\" cy=\"-99.5\" rx=\"27\" ry=\"18\"/>\n<text text-anchor=\"middle\" x=\"1607\" y=\"-95.8\" font-family=\"Times,serif\" font-size=\"14.00\">exp</text>\n</g>\n<!-- 134080569723440exp&#45;&gt;134080569723440 -->\n<g id=\"edge1\" class=\"edge\">\n<title>134080569723440exp&#45;&gt;134080569723440</title>\n<path fill=\"none\" stroke=\"black\" d=\"M1634.21,-99.5C1642.34,-99.5 1651.85,-99.5 1661.94,-99.5\"/>\n<polygon fill=\"black\" stroke=\"black\" points=\"1662.19,-103 1672.19,-99.5 1662.19,-96 1662.19,-103\"/>\n</g>\n<!-- 134080569723968 -->\n<g id=\"node4\" class=\"node\">\n<title>134080569723968</title>\n<polygon fill=\"none\" stroke=\"black\" points=\"326,-110.5 326,-146.5 540,-146.5 540,-110.5 326,-110.5\"/>\n<text text-anchor=\"middle\" x=\"349.5\" y=\"-124.8\" font-family=\"Times,serif\" font-size=\"14.00\">x1w1</text>\n<polyline fill=\"none\" stroke=\"black\" points=\"373,-110.5 373,-146.5 \"/>\n<text text-anchor=\"middle\" x=\"415.5\" y=\"-124.8\" font-family=\"Times,serif\" font-size=\"14.00\">data &#45;6.0000</text>\n<polyline fill=\"none\" stroke=\"black\" points=\"458,-110.5 458,-146.5 \"/>\n<text text-anchor=\"middle\" x=\"499\" y=\"-124.8\" font-family=\"Times,serif\" font-size=\"14.00\">grad 0.0000</text>\n</g>\n<!-- 134080569729248+ -->\n<g id=\"node15\" class=\"node\">\n<title>134080569729248+</title>\n<ellipse fill=\"none\" stroke=\"black\" cx=\"603\" cy=\"-100.5\" rx=\"27\" ry=\"18\"/>\n<text text-anchor=\"middle\" x=\"603\" y=\"-96.8\" font-family=\"Times,serif\" font-size=\"14.00\">+</text>\n</g>\n<!-- 134080569723968&#45;&gt;134080569729248+ -->\n<g id=\"edge15\" class=\"edge\">\n<title>134080569723968&#45;&gt;134080569729248+</title>\n<path fill=\"none\" stroke=\"black\" d=\"M540.4,-110.77C549.72,-109.21 558.65,-107.72 566.68,-106.39\"/>\n<polygon fill=\"black\" stroke=\"black\" points=\"567.38,-109.82 576.66,-104.72 566.22,-102.91 567.38,-109.82\"/>\n</g>\n<!-- 134080569723968* -->\n<g id=\"node5\" class=\"node\">\n<title>134080569723968*</title>\n<ellipse fill=\"none\" stroke=\"black\" cx=\"263\" cy=\"-128.5\" rx=\"27\" ry=\"18\"/>\n<text text-anchor=\"middle\" x=\"263\" y=\"-124.8\" font-family=\"Times,serif\" font-size=\"14.00\">*</text>\n</g>\n<!-- 134080569723968*&#45;&gt;134080569723968 -->\n<g id=\"edge2\" class=\"edge\">\n<title>134080569723968*&#45;&gt;134080569723968</title>\n<path fill=\"none\" stroke=\"black\" d=\"M290.25,-128.5C297.7,-128.5 306.34,-128.5 315.59,-128.5\"/>\n<polygon fill=\"black\" stroke=\"black\" points=\"315.84,-132 325.84,-128.5 315.84,-125 315.84,-132\"/>\n</g>\n<!-- 134080569731696 -->\n<g id=\"node6\" class=\"node\">\n<title>134080569731696</title>\n<polygon fill=\"none\" stroke=\"black\" points=\"2419,-57.5 2419,-93.5 2601,-93.5 2601,-57.5 2419,-57.5\"/>\n<text text-anchor=\"middle\" x=\"2429\" y=\"-71.8\" font-family=\"Times,serif\" font-size=\"14.00\"> </text>\n<polyline fill=\"none\" stroke=\"black\" points=\"2439,-57.5 2439,-93.5 \"/>\n<text text-anchor=\"middle\" x=\"2479\" y=\"-71.8\" font-family=\"Times,serif\" font-size=\"14.00\">data 0.1464</text>\n<polyline fill=\"none\" stroke=\"black\" points=\"2519,-57.5 2519,-93.5 \"/>\n<text text-anchor=\"middle\" x=\"2560\" y=\"-71.8\" font-family=\"Times,serif\" font-size=\"14.00\">grad 0.0000</text>\n</g>\n<!-- 134080569730496* -->\n<g id=\"node26\" class=\"node\">\n<title>134080569730496*</title>\n<ellipse fill=\"none\" stroke=\"black\" cx=\"2664\" cy=\"-98.5\" rx=\"27\" ry=\"18\"/>\n<text text-anchor=\"middle\" x=\"2664\" y=\"-94.8\" font-family=\"Times,serif\" font-size=\"14.00\">*</text>\n</g>\n<!-- 134080569731696&#45;&gt;134080569730496* -->\n<g id=\"edge20\" class=\"edge\">\n<title>134080569731696&#45;&gt;134080569730496*</title>\n<path fill=\"none\" stroke=\"black\" d=\"M2601.18,-89.15C2610.42,-90.54 2619.38,-91.9 2627.47,-93.12\"/>\n<polygon fill=\"black\" stroke=\"black\" points=\"2627.15,-96.61 2637.56,-94.65 2628.19,-89.69 2627.15,-96.61\"/>\n</g>\n<!-- 134080569731696**&#45;1 -->\n<g id=\"node7\" class=\"node\">\n<title>134080569731696**&#45;1</title>\n<ellipse fill=\"none\" stroke=\"black\" cx=\"2292\" cy=\"-71.5\" rx=\"27\" ry=\"18\"/>\n<text text-anchor=\"middle\" x=\"2292\" y=\"-67.8\" font-family=\"Times,serif\" font-size=\"14.00\">**&#45;1</text>\n</g>\n<!-- 134080569731696**&#45;1&#45;&gt;134080569731696 -->\n<g id=\"edge3\" class=\"edge\">\n<title>134080569731696**&#45;1&#45;&gt;134080569731696</title>\n<path fill=\"none\" stroke=\"black\" d=\"M2319.05,-71.98C2341.53,-72.4 2375.48,-73.03 2408.5,-73.64\"/>\n<polygon fill=\"black\" stroke=\"black\" points=\"2408.64,-77.14 2418.7,-73.83 2408.77,-70.14 2408.64,-77.14\"/>\n</g>\n<!-- 134080569735296 -->\n<g id=\"node8\" class=\"node\">\n<title>134080569735296</title>\n<polygon fill=\"none\" stroke=\"black\" points=\"328.5,-55.5 328.5,-91.5 537.5,-91.5 537.5,-55.5 328.5,-55.5\"/>\n<text text-anchor=\"middle\" x=\"352\" y=\"-69.8\" font-family=\"Times,serif\" font-size=\"14.00\">x2w2</text>\n<polyline fill=\"none\" stroke=\"black\" points=\"375.5,-55.5 375.5,-91.5 \"/>\n<text text-anchor=\"middle\" x=\"415.5\" y=\"-69.8\" font-family=\"Times,serif\" font-size=\"14.00\">data 0.0000</text>\n<polyline fill=\"none\" stroke=\"black\" points=\"455.5,-55.5 455.5,-91.5 \"/>\n<text text-anchor=\"middle\" x=\"496.5\" y=\"-69.8\" font-family=\"Times,serif\" font-size=\"14.00\">grad 0.0000</text>\n</g>\n<!-- 134080569735296&#45;&gt;134080569729248+ -->\n<g id=\"edge25\" class=\"edge\">\n<title>134080569735296&#45;&gt;134080569729248+</title>\n<path fill=\"none\" stroke=\"black\" d=\"M537.53,-90.14C547.8,-91.79 557.66,-93.37 566.45,-94.79\"/>\n<polygon fill=\"black\" stroke=\"black\" points=\"566.16,-98.28 576.59,-96.42 567.27,-91.37 566.16,-98.28\"/>\n</g>\n<!-- 134080569735296* -->\n<g id=\"node9\" class=\"node\">\n<title>134080569735296*</title>\n<ellipse fill=\"none\" stroke=\"black\" cx=\"263\" cy=\"-73.5\" rx=\"27\" ry=\"18\"/>\n<text text-anchor=\"middle\" x=\"263\" y=\"-69.8\" font-family=\"Times,serif\" font-size=\"14.00\">*</text>\n</g>\n<!-- 134080569735296*&#45;&gt;134080569735296 -->\n<g id=\"edge4\" class=\"edge\">\n<title>134080569735296*&#45;&gt;134080569735296</title>\n<path fill=\"none\" stroke=\"black\" d=\"M290.25,-73.5C298.43,-73.5 308.03,-73.5 318.31,-73.5\"/>\n<polygon fill=\"black\" stroke=\"black\" points=\"318.35,-77 328.35,-73.5 318.35,-70 318.35,-77\"/>\n</g>\n<!-- 134080569731216 -->\n<g id=\"node10\" class=\"node\">\n<title>134080569731216</title>\n<polygon fill=\"none\" stroke=\"black\" points=\"4,-165.5 4,-201.5 196,-201.5 196,-165.5 4,-165.5\"/>\n<text text-anchor=\"middle\" x=\"19\" y=\"-179.8\" font-family=\"Times,serif\" font-size=\"14.00\">x1</text>\n<polyline fill=\"none\" stroke=\"black\" points=\"34,-165.5 34,-201.5 \"/>\n<text text-anchor=\"middle\" x=\"74\" y=\"-179.8\" font-family=\"Times,serif\" font-size=\"14.00\">data 2.0000</text>\n<polyline fill=\"none\" stroke=\"black\" points=\"114,-165.5 114,-201.5 \"/>\n<text text-anchor=\"middle\" x=\"155\" y=\"-179.8\" font-family=\"Times,serif\" font-size=\"14.00\">grad 0.0000</text>\n</g>\n<!-- 134080569731216&#45;&gt;134080569723968* -->\n<g id=\"edge22\" class=\"edge\">\n<title>134080569731216&#45;&gt;134080569723968*</title>\n<path fill=\"none\" stroke=\"black\" d=\"M172.53,-165.44C181.84,-162.67 191.2,-159.67 200,-156.5 210.53,-152.71 221.75,-147.9 231.72,-143.33\"/>\n<polygon fill=\"black\" stroke=\"black\" points=\"233.25,-146.48 240.82,-139.07 230.28,-140.14 233.25,-146.48\"/>\n</g>\n<!-- 134080569727376 -->\n<g id=\"node11\" class=\"node\">\n<title>134080569727376</title>\n<polygon fill=\"none\" stroke=\"black\" points=\"1672.5,-26.5 1672.5,-62.5 1854.5,-62.5 1854.5,-26.5 1672.5,-26.5\"/>\n<text text-anchor=\"middle\" x=\"1682.5\" y=\"-40.8\" font-family=\"Times,serif\" font-size=\"14.00\"> </text>\n<polyline fill=\"none\" stroke=\"black\" points=\"1692.5,-26.5 1692.5,-62.5 \"/>\n<text text-anchor=\"middle\" x=\"1732.5\" y=\"-40.8\" font-family=\"Times,serif\" font-size=\"14.00\">data 1.0000</text>\n<polyline fill=\"none\" stroke=\"black\" points=\"1772.5,-26.5 1772.5,-62.5 \"/>\n<text text-anchor=\"middle\" x=\"1813.5\" y=\"-40.8\" font-family=\"Times,serif\" font-size=\"14.00\">grad 0.0000</text>\n</g>\n<!-- 134080569727376&#45;&gt;134080569721280+ -->\n<g id=\"edge24\" class=\"edge\">\n<title>134080569727376&#45;&gt;134080569721280+</title>\n<path fill=\"none\" stroke=\"black\" d=\"M1854.82,-60.28C1865.07,-62.08 1875.01,-63.81 1883.88,-65.36\"/>\n<polygon fill=\"black\" stroke=\"black\" points=\"1883.3,-68.81 1893.75,-67.09 1884.5,-61.92 1883.3,-68.81\"/>\n</g>\n<!-- 134080569721280 -->\n<g id=\"node12\" class=\"node\">\n<title>134080569721280</title>\n<polygon fill=\"none\" stroke=\"black\" points=\"1983,-53.5 1983,-89.5 2165,-89.5 2165,-53.5 1983,-53.5\"/>\n<text text-anchor=\"middle\" x=\"1993\" y=\"-67.8\" font-family=\"Times,serif\" font-size=\"14.00\"> </text>\n<polyline fill=\"none\" stroke=\"black\" points=\"2003,-53.5 2003,-89.5 \"/>\n<text text-anchor=\"middle\" x=\"2043\" y=\"-67.8\" font-family=\"Times,serif\" font-size=\"14.00\">data 6.8284</text>\n<polyline fill=\"none\" stroke=\"black\" points=\"2083,-53.5 2083,-89.5 \"/>\n<text text-anchor=\"middle\" x=\"2124\" y=\"-67.8\" font-family=\"Times,serif\" font-size=\"14.00\">grad 0.0000</text>\n</g>\n<!-- 134080569721280&#45;&gt;134080569731696**&#45;1 -->\n<g id=\"edge18\" class=\"edge\">\n<title>134080569721280&#45;&gt;134080569731696**&#45;1</title>\n<path fill=\"none\" stroke=\"black\" d=\"M2165.04,-71.5C2196.5,-71.5 2230.05,-71.5 2254.61,-71.5\"/>\n<polygon fill=\"black\" stroke=\"black\" points=\"2254.89,-75 2264.89,-71.5 2254.89,-68 2254.89,-75\"/>\n</g>\n<!-- 134080569721280+&#45;&gt;134080569721280 -->\n<g id=\"edge5\" class=\"edge\">\n<title>134080569721280+&#45;&gt;134080569721280</title>\n<path fill=\"none\" stroke=\"black\" d=\"M1947.13,-71.5C1954.67,-71.5 1963.39,-71.5 1972.64,-71.5\"/>\n<polygon fill=\"black\" stroke=\"black\" points=\"1972.87,-75 1982.87,-71.5 1972.87,-68 1972.87,-75\"/>\n</g>\n<!-- 134080569729248 -->\n<g id=\"node14\" class=\"node\">\n<title>134080569729248</title>\n<polygon fill=\"none\" stroke=\"black\" points=\"666,-82.5 666,-118.5 925,-118.5 925,-82.5 666,-82.5\"/>\n<text text-anchor=\"middle\" x=\"712\" y=\"-96.8\" font-family=\"Times,serif\" font-size=\"14.00\">x1w1 + x2w2</text>\n<polyline fill=\"none\" stroke=\"black\" points=\"758,-82.5 758,-118.5 \"/>\n<text text-anchor=\"middle\" x=\"800.5\" y=\"-96.8\" font-family=\"Times,serif\" font-size=\"14.00\">data &#45;6.0000</text>\n<polyline fill=\"none\" stroke=\"black\" points=\"843,-82.5 843,-118.5 \"/>\n<text text-anchor=\"middle\" x=\"884\" y=\"-96.8\" font-family=\"Times,serif\" font-size=\"14.00\">grad 0.0000</text>\n</g>\n<!-- 134080569727808+ -->\n<g id=\"node19\" class=\"node\">\n<title>134080569727808+</title>\n<ellipse fill=\"none\" stroke=\"black\" cx=\"988\" cy=\"-72.5\" rx=\"27\" ry=\"18\"/>\n<text text-anchor=\"middle\" x=\"988\" y=\"-68.8\" font-family=\"Times,serif\" font-size=\"14.00\">+</text>\n</g>\n<!-- 134080569729248&#45;&gt;134080569727808+ -->\n<g id=\"edge12\" class=\"edge\">\n<title>134080569729248&#45;&gt;134080569727808+</title>\n<path fill=\"none\" stroke=\"black\" d=\"M919.03,-82.49C930.7,-80.77 941.77,-79.15 951.46,-77.72\"/>\n<polygon fill=\"black\" stroke=\"black\" points=\"952.01,-81.18 961.4,-76.26 951,-74.25 952.01,-81.18\"/>\n</g>\n<!-- 134080569729248+&#45;&gt;134080569729248 -->\n<g id=\"edge6\" class=\"edge\">\n<title>134080569729248+&#45;&gt;134080569729248</title>\n<path fill=\"none\" stroke=\"black\" d=\"M630.09,-100.5C637.58,-100.5 646.3,-100.5 655.75,-100.5\"/>\n<polygon fill=\"black\" stroke=\"black\" points=\"655.84,-104 665.84,-100.5 655.84,-97 655.84,-104\"/>\n</g>\n<!-- 134080569726176 -->\n<g id=\"node16\" class=\"node\">\n<title>134080569726176</title>\n<polygon fill=\"none\" stroke=\"black\" points=\"4,-55.5 4,-91.5 196,-91.5 196,-55.5 4,-55.5\"/>\n<text text-anchor=\"middle\" x=\"19\" y=\"-69.8\" font-family=\"Times,serif\" font-size=\"14.00\">x2</text>\n<polyline fill=\"none\" stroke=\"black\" points=\"34,-55.5 34,-91.5 \"/>\n<text text-anchor=\"middle\" x=\"74\" y=\"-69.8\" font-family=\"Times,serif\" font-size=\"14.00\">data 0.0000</text>\n<polyline fill=\"none\" stroke=\"black\" points=\"114,-55.5 114,-91.5 \"/>\n<text text-anchor=\"middle\" x=\"155\" y=\"-69.8\" font-family=\"Times,serif\" font-size=\"14.00\">grad 0.0000</text>\n</g>\n<!-- 134080569726176&#45;&gt;134080569735296* -->\n<g id=\"edge16\" class=\"edge\">\n<title>134080569726176&#45;&gt;134080569735296*</title>\n<path fill=\"none\" stroke=\"black\" d=\"M196.05,-73.5C206.52,-73.5 216.65,-73.5 225.71,-73.5\"/>\n<polygon fill=\"black\" stroke=\"black\" points=\"225.79,-77 235.79,-73.5 225.79,-70 225.79,-77\"/>\n</g>\n<!-- 134080569724160 -->\n<g id=\"node17\" class=\"node\">\n<title>134080569724160</title>\n<polygon fill=\"none\" stroke=\"black\" points=\"1052.5,-109.5 1052.5,-145.5 1234.5,-145.5 1234.5,-109.5 1052.5,-109.5\"/>\n<text text-anchor=\"middle\" x=\"1062.5\" y=\"-123.8\" font-family=\"Times,serif\" font-size=\"14.00\"> </text>\n<polyline fill=\"none\" stroke=\"black\" points=\"1072.5,-109.5 1072.5,-145.5 \"/>\n<text text-anchor=\"middle\" x=\"1112.5\" y=\"-123.8\" font-family=\"Times,serif\" font-size=\"14.00\">data 2.0000</text>\n<polyline fill=\"none\" stroke=\"black\" points=\"1152.5,-109.5 1152.5,-145.5 \"/>\n<text text-anchor=\"middle\" x=\"1193.5\" y=\"-123.8\" font-family=\"Times,serif\" font-size=\"14.00\">grad 0.0000</text>\n</g>\n<!-- 134080569723296* -->\n<g id=\"node24\" class=\"node\">\n<title>134080569723296*</title>\n<ellipse fill=\"none\" stroke=\"black\" cx=\"1299\" cy=\"-99.5\" rx=\"27\" ry=\"18\"/>\n<text text-anchor=\"middle\" x=\"1299\" y=\"-95.8\" font-family=\"Times,serif\" font-size=\"14.00\">*</text>\n</g>\n<!-- 134080569724160&#45;&gt;134080569723296* -->\n<g id=\"edge23\" class=\"edge\">\n<title>134080569724160&#45;&gt;134080569723296*</title>\n<path fill=\"none\" stroke=\"black\" d=\"M1234.68,-111.05C1244.61,-109.24 1254.23,-107.48 1262.84,-105.91\"/>\n<polygon fill=\"black\" stroke=\"black\" points=\"1263.6,-109.33 1272.81,-104.09 1262.35,-102.45 1263.6,-109.33\"/>\n</g>\n<!-- 134080569727808 -->\n<g id=\"node18\" class=\"node\">\n<title>134080569727808</title>\n<polygon fill=\"none\" stroke=\"black\" points=\"1051,-54.5 1051,-90.5 1236,-90.5 1236,-54.5 1051,-54.5\"/>\n<text text-anchor=\"middle\" x=\"1062.5\" y=\"-68.8\" font-family=\"Times,serif\" font-size=\"14.00\">n</text>\n<polyline fill=\"none\" stroke=\"black\" points=\"1074,-54.5 1074,-90.5 \"/>\n<text text-anchor=\"middle\" x=\"1114\" y=\"-68.8\" font-family=\"Times,serif\" font-size=\"14.00\">data 0.8814</text>\n<polyline fill=\"none\" stroke=\"black\" points=\"1154,-54.5 1154,-90.5 \"/>\n<text text-anchor=\"middle\" x=\"1195\" y=\"-68.8\" font-family=\"Times,serif\" font-size=\"14.00\">grad 0.0000</text>\n</g>\n<!-- 134080569727808&#45;&gt;134080569723296* -->\n<g id=\"edge11\" class=\"edge\">\n<title>134080569727808&#45;&gt;134080569723296*</title>\n<path fill=\"none\" stroke=\"black\" d=\"M1236.01,-88.6C1245.49,-90.26 1254.66,-91.88 1262.9,-93.33\"/>\n<polygon fill=\"black\" stroke=\"black\" points=\"1262.36,-96.78 1272.81,-95.07 1263.57,-89.89 1262.36,-96.78\"/>\n</g>\n<!-- 134080569727808+&#45;&gt;134080569727808 -->\n<g id=\"edge7\" class=\"edge\">\n<title>134080569727808+&#45;&gt;134080569727808</title>\n<path fill=\"none\" stroke=\"black\" d=\"M1015.04,-72.5C1022.58,-72.5 1031.3,-72.5 1040.57,-72.5\"/>\n<polygon fill=\"black\" stroke=\"black\" points=\"1040.81,-76 1050.81,-72.5 1040.81,-69 1040.81,-76\"/>\n</g>\n<!-- 134080569736544 -->\n<g id=\"node20\" class=\"node\">\n<title>134080569736544</title>\n<polygon fill=\"none\" stroke=\"black\" points=\"0,-110.5 0,-146.5 200,-146.5 200,-110.5 0,-110.5\"/>\n<text text-anchor=\"middle\" x=\"16.5\" y=\"-124.8\" font-family=\"Times,serif\" font-size=\"14.00\">w1</text>\n<polyline fill=\"none\" stroke=\"black\" points=\"33,-110.5 33,-146.5 \"/>\n<text text-anchor=\"middle\" x=\"75.5\" y=\"-124.8\" font-family=\"Times,serif\" font-size=\"14.00\">data &#45;3.0000</text>\n<polyline fill=\"none\" stroke=\"black\" points=\"118,-110.5 118,-146.5 \"/>\n<text text-anchor=\"middle\" x=\"159\" y=\"-124.8\" font-family=\"Times,serif\" font-size=\"14.00\">grad 0.0000</text>\n</g>\n<!-- 134080569736544&#45;&gt;134080569723968* -->\n<g id=\"edge19\" class=\"edge\">\n<title>134080569736544&#45;&gt;134080569723968*</title>\n<path fill=\"none\" stroke=\"black\" d=\"M200.21,-128.5C209.2,-128.5 217.86,-128.5 225.7,-128.5\"/>\n<polygon fill=\"black\" stroke=\"black\" points=\"225.85,-132 235.85,-128.5 225.85,-125 225.85,-132\"/>\n</g>\n<!-- 134080569732464 -->\n<g id=\"node21\" class=\"node\">\n<title>134080569732464</title>\n<polygon fill=\"none\" stroke=\"black\" points=\"2.5,-0.5 2.5,-36.5 197.5,-36.5 197.5,-0.5 2.5,-0.5\"/>\n<text text-anchor=\"middle\" x=\"19\" y=\"-14.8\" font-family=\"Times,serif\" font-size=\"14.00\">w2</text>\n<polyline fill=\"none\" stroke=\"black\" points=\"35.5,-0.5 35.5,-36.5 \"/>\n<text text-anchor=\"middle\" x=\"75.5\" y=\"-14.8\" font-family=\"Times,serif\" font-size=\"14.00\">data 1.0000</text>\n<polyline fill=\"none\" stroke=\"black\" points=\"115.5,-0.5 115.5,-36.5 \"/>\n<text text-anchor=\"middle\" x=\"156.5\" y=\"-14.8\" font-family=\"Times,serif\" font-size=\"14.00\">grad 0.0000</text>\n</g>\n<!-- 134080569732464&#45;&gt;134080569735296* -->\n<g id=\"edge14\" class=\"edge\">\n<title>134080569732464&#45;&gt;134080569735296*</title>\n<path fill=\"none\" stroke=\"black\" d=\"M172.53,-36.56C181.84,-39.33 191.2,-42.33 200,-45.5 210.53,-49.29 221.75,-54.1 231.72,-58.67\"/>\n<polygon fill=\"black\" stroke=\"black\" points=\"230.28,-61.86 240.82,-62.93 233.25,-55.52 230.28,-61.86\"/>\n</g>\n<!-- 134080569721232 -->\n<g id=\"node22\" class=\"node\">\n<title>134080569721232</title>\n<polygon fill=\"none\" stroke=\"black\" points=\"703,-27.5 703,-63.5 888,-63.5 888,-27.5 703,-27.5\"/>\n<text text-anchor=\"middle\" x=\"714.5\" y=\"-41.8\" font-family=\"Times,serif\" font-size=\"14.00\">b</text>\n<polyline fill=\"none\" stroke=\"black\" points=\"726,-27.5 726,-63.5 \"/>\n<text text-anchor=\"middle\" x=\"766\" y=\"-41.8\" font-family=\"Times,serif\" font-size=\"14.00\">data 6.8814</text>\n<polyline fill=\"none\" stroke=\"black\" points=\"806,-27.5 806,-63.5 \"/>\n<text text-anchor=\"middle\" x=\"847\" y=\"-41.8\" font-family=\"Times,serif\" font-size=\"14.00\">grad 0.0000</text>\n</g>\n<!-- 134080569721232&#45;&gt;134080569727808+ -->\n<g id=\"edge21\" class=\"edge\">\n<title>134080569721232&#45;&gt;134080569727808+</title>\n<path fill=\"none\" stroke=\"black\" d=\"M888.12,-58.49C910.59,-61.67 933.33,-64.89 951.33,-67.44\"/>\n<polygon fill=\"black\" stroke=\"black\" points=\"950.95,-70.93 961.34,-68.86 951.93,-63.99 950.95,-70.93\"/>\n</g>\n<!-- 134080569723296 -->\n<g id=\"node23\" class=\"node\">\n<title>134080569723296</title>\n<polygon fill=\"none\" stroke=\"black\" points=\"1362,-81.5 1362,-117.5 1544,-117.5 1544,-81.5 1362,-81.5\"/>\n<text text-anchor=\"middle\" x=\"1372\" y=\"-95.8\" font-family=\"Times,serif\" font-size=\"14.00\"> </text>\n<polyline fill=\"none\" stroke=\"black\" points=\"1382,-81.5 1382,-117.5 \"/>\n<text text-anchor=\"middle\" x=\"1422\" y=\"-95.8\" font-family=\"Times,serif\" font-size=\"14.00\">data 1.7627</text>\n<polyline fill=\"none\" stroke=\"black\" points=\"1462,-81.5 1462,-117.5 \"/>\n<text text-anchor=\"middle\" x=\"1503\" y=\"-95.8\" font-family=\"Times,serif\" font-size=\"14.00\">grad 0.0000</text>\n</g>\n<!-- 134080569723296&#45;&gt;134080569723440exp -->\n<g id=\"edge27\" class=\"edge\">\n<title>134080569723296&#45;&gt;134080569723440exp</title>\n<path fill=\"none\" stroke=\"black\" d=\"M1544.18,-99.5C1553.14,-99.5 1561.83,-99.5 1569.73,-99.5\"/>\n<polygon fill=\"black\" stroke=\"black\" points=\"1569.96,-103 1579.96,-99.5 1569.96,-96 1569.96,-103\"/>\n</g>\n<!-- 134080569723296*&#45;&gt;134080569723296 -->\n<g id=\"edge8\" class=\"edge\">\n<title>134080569723296*&#45;&gt;134080569723296</title>\n<path fill=\"none\" stroke=\"black\" d=\"M1326.13,-99.5C1333.67,-99.5 1342.39,-99.5 1351.64,-99.5\"/>\n<polygon fill=\"black\" stroke=\"black\" points=\"1351.87,-103 1361.87,-99.5 1351.87,-96 1351.87,-103\"/>\n</g>\n<!-- 134080569730496 -->\n<g id=\"node25\" class=\"node\">\n<title>134080569730496</title>\n<polygon fill=\"none\" stroke=\"black\" points=\"2727,-80.5 2727,-116.5 2909,-116.5 2909,-80.5 2727,-80.5\"/>\n<text text-anchor=\"middle\" x=\"2737\" y=\"-94.8\" font-family=\"Times,serif\" font-size=\"14.00\"> </text>\n<polyline fill=\"none\" stroke=\"black\" points=\"2747,-80.5 2747,-116.5 \"/>\n<text text-anchor=\"middle\" x=\"2787\" y=\"-94.8\" font-family=\"Times,serif\" font-size=\"14.00\">data 0.7071</text>\n<polyline fill=\"none\" stroke=\"black\" points=\"2827,-80.5 2827,-116.5 \"/>\n<text text-anchor=\"middle\" x=\"2868\" y=\"-94.8\" font-family=\"Times,serif\" font-size=\"14.00\">grad 0.0000</text>\n</g>\n<!-- 134080569730496*&#45;&gt;134080569730496 -->\n<g id=\"edge9\" class=\"edge\">\n<title>134080569730496*&#45;&gt;134080569730496</title>\n<path fill=\"none\" stroke=\"black\" d=\"M2691.13,-98.5C2698.67,-98.5 2707.39,-98.5 2716.64,-98.5\"/>\n<polygon fill=\"black\" stroke=\"black\" points=\"2716.87,-102 2726.87,-98.5 2716.87,-95 2716.87,-102\"/>\n</g>\n<!-- 134080569725408 -->\n<g id=\"node27\" class=\"node\">\n<title>134080569725408</title>\n<polygon fill=\"none\" stroke=\"black\" points=\"2201,-108.5 2201,-144.5 2383,-144.5 2383,-108.5 2201,-108.5\"/>\n<text text-anchor=\"middle\" x=\"2211\" y=\"-122.8\" font-family=\"Times,serif\" font-size=\"14.00\"> </text>\n<polyline fill=\"none\" stroke=\"black\" points=\"2221,-108.5 2221,-144.5 \"/>\n<text text-anchor=\"middle\" x=\"2261\" y=\"-122.8\" font-family=\"Times,serif\" font-size=\"14.00\">data 4.8284</text>\n<polyline fill=\"none\" stroke=\"black\" points=\"2301,-108.5 2301,-144.5 \"/>\n<text text-anchor=\"middle\" x=\"2342\" y=\"-122.8\" font-family=\"Times,serif\" font-size=\"14.00\">grad 0.0000</text>\n</g>\n<!-- 134080569725408&#45;&gt;134080569730496* -->\n<g id=\"edge26\" class=\"edge\">\n<title>134080569725408&#45;&gt;134080569730496*</title>\n<path fill=\"none\" stroke=\"black\" d=\"M2383.31,-119.9C2444.7,-115.37 2527.76,-109.19 2601,-103.5 2609.42,-102.85 2618.48,-102.13 2627.01,-101.44\"/>\n<polygon fill=\"black\" stroke=\"black\" points=\"2627.37,-104.92 2637.06,-100.63 2626.81,-97.94 2627.37,-104.92\"/>\n</g>\n<!-- 134080569725408+&#45;&gt;134080569725408 -->\n<g id=\"edge10\" class=\"edge\">\n<title>134080569725408+&#45;&gt;134080569725408</title>\n<path fill=\"none\" stroke=\"black\" d=\"M1947.02,-126.5C1996.84,-126.5 2108.08,-126.5 2190.65,-126.5\"/>\n<polygon fill=\"black\" stroke=\"black\" points=\"2190.82,-130 2200.82,-126.5 2190.82,-123 2190.82,-130\"/>\n</g>\n</g>\n</svg>\n",
            "text/plain": [
              "<graphviz.graphs.Digraph at 0x79f210bad300>"
            ]
          },
          "metadata": {},
          "execution_count": 34
        }
      ]
    },
    {
      "cell_type": "code",
      "source": [
        "o.backward()\n",
        "draw_dot(o)"
      ],
      "metadata": {
        "colab": {
          "base_uri": "https://localhost:8080/",
          "height": 321
        },
        "id": "bGqVr7ZvhdgP",
        "outputId": "a951d373-2882-4c63-d4e6-4abee5942d79"
      },
      "execution_count": null,
      "outputs": [
        {
          "output_type": "execute_result",
          "data": {
            "image/svg+xml": "<?xml version=\"1.0\" encoding=\"UTF-8\" standalone=\"no\"?>\n<!DOCTYPE svg PUBLIC \"-//W3C//DTD SVG 1.1//EN\"\n \"http://www.w3.org/Graphics/SVG/1.1/DTD/svg11.dtd\">\n<!-- Generated by graphviz version 2.43.0 (0)\n -->\n<!-- Title: %3 Pages: 1 -->\n<svg width=\"2921pt\" height=\"210pt\"\n viewBox=\"0.00 0.00 2921.00 210.00\" xmlns=\"http://www.w3.org/2000/svg\" xmlns:xlink=\"http://www.w3.org/1999/xlink\">\n<g id=\"graph0\" class=\"graph\" transform=\"scale(1 1) rotate(0) translate(4 206)\">\n<title>%3</title>\n<polygon fill=\"white\" stroke=\"transparent\" points=\"-4,4 -4,-206 2917,-206 2917,4 -4,4\"/>\n<!-- 134080569728528 -->\n<g id=\"node1\" class=\"node\">\n<title>134080569728528</title>\n<polygon fill=\"none\" stroke=\"black\" points=\"1670,-136.5 1670,-172.5 1857,-172.5 1857,-136.5 1670,-136.5\"/>\n<text text-anchor=\"middle\" x=\"1680\" y=\"-150.8\" font-family=\"Times,serif\" font-size=\"14.00\"> </text>\n<polyline fill=\"none\" stroke=\"black\" points=\"1690,-136.5 1690,-172.5 \"/>\n<text text-anchor=\"middle\" x=\"1732.5\" y=\"-150.8\" font-family=\"Times,serif\" font-size=\"14.00\">data &#45;1.0000</text>\n<polyline fill=\"none\" stroke=\"black\" points=\"1775,-136.5 1775,-172.5 \"/>\n<text text-anchor=\"middle\" x=\"1816\" y=\"-150.8\" font-family=\"Times,serif\" font-size=\"14.00\">grad 0.1464</text>\n</g>\n<!-- 134080569725408+ -->\n<g id=\"node28\" class=\"node\">\n<title>134080569725408+</title>\n<ellipse fill=\"none\" stroke=\"black\" cx=\"1920\" cy=\"-126.5\" rx=\"27\" ry=\"18\"/>\n<text text-anchor=\"middle\" x=\"1920\" y=\"-122.8\" font-family=\"Times,serif\" font-size=\"14.00\">+</text>\n</g>\n<!-- 134080569728528&#45;&gt;134080569725408+ -->\n<g id=\"edge28\" class=\"edge\">\n<title>134080569728528&#45;&gt;134080569725408+</title>\n<path fill=\"none\" stroke=\"black\" d=\"M1857.05,-137.73C1866.54,-136.01 1875.71,-134.35 1883.95,-132.85\"/>\n<polygon fill=\"black\" stroke=\"black\" points=\"1884.64,-136.28 1893.85,-131.06 1883.39,-129.4 1884.64,-136.28\"/>\n</g>\n<!-- 134080569723440 -->\n<g id=\"node2\" class=\"node\">\n<title>134080569723440</title>\n<polygon fill=\"none\" stroke=\"black\" points=\"1672.5,-81.5 1672.5,-117.5 1854.5,-117.5 1854.5,-81.5 1672.5,-81.5\"/>\n<text text-anchor=\"middle\" x=\"1682.5\" y=\"-95.8\" font-family=\"Times,serif\" font-size=\"14.00\"> </text>\n<polyline fill=\"none\" stroke=\"black\" points=\"1692.5,-81.5 1692.5,-117.5 \"/>\n<text text-anchor=\"middle\" x=\"1732.5\" y=\"-95.8\" font-family=\"Times,serif\" font-size=\"14.00\">data 5.8284</text>\n<polyline fill=\"none\" stroke=\"black\" points=\"1772.5,-81.5 1772.5,-117.5 \"/>\n<text text-anchor=\"middle\" x=\"1813.5\" y=\"-95.8\" font-family=\"Times,serif\" font-size=\"14.00\">grad 0.0429</text>\n</g>\n<!-- 134080569721280+ -->\n<g id=\"node13\" class=\"node\">\n<title>134080569721280+</title>\n<ellipse fill=\"none\" stroke=\"black\" cx=\"1920\" cy=\"-71.5\" rx=\"27\" ry=\"18\"/>\n<text text-anchor=\"middle\" x=\"1920\" y=\"-67.8\" font-family=\"Times,serif\" font-size=\"14.00\">+</text>\n</g>\n<!-- 134080569723440&#45;&gt;134080569721280+ -->\n<g id=\"edge13\" class=\"edge\">\n<title>134080569723440&#45;&gt;134080569721280+</title>\n<path fill=\"none\" stroke=\"black\" d=\"M1854.82,-83.13C1865.07,-81.27 1875.01,-79.47 1883.88,-77.87\"/>\n<polygon fill=\"black\" stroke=\"black\" points=\"1884.54,-81.3 1893.75,-76.08 1883.29,-74.42 1884.54,-81.3\"/>\n</g>\n<!-- 134080569723440&#45;&gt;134080569725408+ -->\n<g id=\"edge17\" class=\"edge\">\n<title>134080569723440&#45;&gt;134080569725408+</title>\n<path fill=\"none\" stroke=\"black\" d=\"M1854.82,-115.28C1865.07,-117.08 1875.01,-118.81 1883.88,-120.36\"/>\n<polygon fill=\"black\" stroke=\"black\" points=\"1883.3,-123.81 1893.75,-122.09 1884.5,-116.92 1883.3,-123.81\"/>\n</g>\n<!-- 134080569723440exp -->\n<g id=\"node3\" class=\"node\">\n<title>134080569723440exp</title>\n<ellipse fill=\"none\" stroke=\"black\" cx=\"1607\" cy=\"-99.5\" rx=\"27\" ry=\"18\"/>\n<text text-anchor=\"middle\" x=\"1607\" y=\"-95.8\" font-family=\"Times,serif\" font-size=\"14.00\">exp</text>\n</g>\n<!-- 134080569723440exp&#45;&gt;134080569723440 -->\n<g id=\"edge1\" class=\"edge\">\n<title>134080569723440exp&#45;&gt;134080569723440</title>\n<path fill=\"none\" stroke=\"black\" d=\"M1634.21,-99.5C1642.34,-99.5 1651.85,-99.5 1661.94,-99.5\"/>\n<polygon fill=\"black\" stroke=\"black\" points=\"1662.19,-103 1672.19,-99.5 1662.19,-96 1662.19,-103\"/>\n</g>\n<!-- 134080569723968 -->\n<g id=\"node4\" class=\"node\">\n<title>134080569723968</title>\n<polygon fill=\"none\" stroke=\"black\" points=\"326,-110.5 326,-146.5 540,-146.5 540,-110.5 326,-110.5\"/>\n<text text-anchor=\"middle\" x=\"349.5\" y=\"-124.8\" font-family=\"Times,serif\" font-size=\"14.00\">x1w1</text>\n<polyline fill=\"none\" stroke=\"black\" points=\"373,-110.5 373,-146.5 \"/>\n<text text-anchor=\"middle\" x=\"415.5\" y=\"-124.8\" font-family=\"Times,serif\" font-size=\"14.00\">data &#45;6.0000</text>\n<polyline fill=\"none\" stroke=\"black\" points=\"458,-110.5 458,-146.5 \"/>\n<text text-anchor=\"middle\" x=\"499\" y=\"-124.8\" font-family=\"Times,serif\" font-size=\"14.00\">grad 0.5000</text>\n</g>\n<!-- 134080569729248+ -->\n<g id=\"node15\" class=\"node\">\n<title>134080569729248+</title>\n<ellipse fill=\"none\" stroke=\"black\" cx=\"603\" cy=\"-100.5\" rx=\"27\" ry=\"18\"/>\n<text text-anchor=\"middle\" x=\"603\" y=\"-96.8\" font-family=\"Times,serif\" font-size=\"14.00\">+</text>\n</g>\n<!-- 134080569723968&#45;&gt;134080569729248+ -->\n<g id=\"edge15\" class=\"edge\">\n<title>134080569723968&#45;&gt;134080569729248+</title>\n<path fill=\"none\" stroke=\"black\" d=\"M540.4,-110.77C549.72,-109.21 558.65,-107.72 566.68,-106.39\"/>\n<polygon fill=\"black\" stroke=\"black\" points=\"567.38,-109.82 576.66,-104.72 566.22,-102.91 567.38,-109.82\"/>\n</g>\n<!-- 134080569723968* -->\n<g id=\"node5\" class=\"node\">\n<title>134080569723968*</title>\n<ellipse fill=\"none\" stroke=\"black\" cx=\"263\" cy=\"-128.5\" rx=\"27\" ry=\"18\"/>\n<text text-anchor=\"middle\" x=\"263\" y=\"-124.8\" font-family=\"Times,serif\" font-size=\"14.00\">*</text>\n</g>\n<!-- 134080569723968*&#45;&gt;134080569723968 -->\n<g id=\"edge2\" class=\"edge\">\n<title>134080569723968*&#45;&gt;134080569723968</title>\n<path fill=\"none\" stroke=\"black\" d=\"M290.25,-128.5C297.7,-128.5 306.34,-128.5 315.59,-128.5\"/>\n<polygon fill=\"black\" stroke=\"black\" points=\"315.84,-132 325.84,-128.5 315.84,-125 315.84,-132\"/>\n</g>\n<!-- 134080569731696 -->\n<g id=\"node6\" class=\"node\">\n<title>134080569731696</title>\n<polygon fill=\"none\" stroke=\"black\" points=\"2423,-57.5 2423,-93.5 2605,-93.5 2605,-57.5 2423,-57.5\"/>\n<text text-anchor=\"middle\" x=\"2433\" y=\"-71.8\" font-family=\"Times,serif\" font-size=\"14.00\"> </text>\n<polyline fill=\"none\" stroke=\"black\" points=\"2443,-57.5 2443,-93.5 \"/>\n<text text-anchor=\"middle\" x=\"2483\" y=\"-71.8\" font-family=\"Times,serif\" font-size=\"14.00\">data 0.1464</text>\n<polyline fill=\"none\" stroke=\"black\" points=\"2523,-57.5 2523,-93.5 \"/>\n<text text-anchor=\"middle\" x=\"2564\" y=\"-71.8\" font-family=\"Times,serif\" font-size=\"14.00\">grad 4.8284</text>\n</g>\n<!-- 134080569730496* -->\n<g id=\"node26\" class=\"node\">\n<title>134080569730496*</title>\n<ellipse fill=\"none\" stroke=\"black\" cx=\"2668\" cy=\"-98.5\" rx=\"27\" ry=\"18\"/>\n<text text-anchor=\"middle\" x=\"2668\" y=\"-94.8\" font-family=\"Times,serif\" font-size=\"14.00\">*</text>\n</g>\n<!-- 134080569731696&#45;&gt;134080569730496* -->\n<g id=\"edge20\" class=\"edge\">\n<title>134080569731696&#45;&gt;134080569730496*</title>\n<path fill=\"none\" stroke=\"black\" d=\"M2605.18,-89.15C2614.42,-90.54 2623.38,-91.9 2631.47,-93.12\"/>\n<polygon fill=\"black\" stroke=\"black\" points=\"2631.15,-96.61 2641.56,-94.65 2632.19,-89.69 2631.15,-96.61\"/>\n</g>\n<!-- 134080569731696**&#45;1 -->\n<g id=\"node7\" class=\"node\">\n<title>134080569731696**&#45;1</title>\n<ellipse fill=\"none\" stroke=\"black\" cx=\"2296\" cy=\"-71.5\" rx=\"27\" ry=\"18\"/>\n<text text-anchor=\"middle\" x=\"2296\" y=\"-67.8\" font-family=\"Times,serif\" font-size=\"14.00\">**&#45;1</text>\n</g>\n<!-- 134080569731696**&#45;1&#45;&gt;134080569731696 -->\n<g id=\"edge3\" class=\"edge\">\n<title>134080569731696**&#45;1&#45;&gt;134080569731696</title>\n<path fill=\"none\" stroke=\"black\" d=\"M2323.05,-71.98C2345.53,-72.4 2379.48,-73.03 2412.5,-73.64\"/>\n<polygon fill=\"black\" stroke=\"black\" points=\"2412.64,-77.14 2422.7,-73.83 2412.77,-70.14 2412.64,-77.14\"/>\n</g>\n<!-- 134080569735296 -->\n<g id=\"node8\" class=\"node\">\n<title>134080569735296</title>\n<polygon fill=\"none\" stroke=\"black\" points=\"328.5,-55.5 328.5,-91.5 537.5,-91.5 537.5,-55.5 328.5,-55.5\"/>\n<text text-anchor=\"middle\" x=\"352\" y=\"-69.8\" font-family=\"Times,serif\" font-size=\"14.00\">x2w2</text>\n<polyline fill=\"none\" stroke=\"black\" points=\"375.5,-55.5 375.5,-91.5 \"/>\n<text text-anchor=\"middle\" x=\"415.5\" y=\"-69.8\" font-family=\"Times,serif\" font-size=\"14.00\">data 0.0000</text>\n<polyline fill=\"none\" stroke=\"black\" points=\"455.5,-55.5 455.5,-91.5 \"/>\n<text text-anchor=\"middle\" x=\"496.5\" y=\"-69.8\" font-family=\"Times,serif\" font-size=\"14.00\">grad 0.5000</text>\n</g>\n<!-- 134080569735296&#45;&gt;134080569729248+ -->\n<g id=\"edge25\" class=\"edge\">\n<title>134080569735296&#45;&gt;134080569729248+</title>\n<path fill=\"none\" stroke=\"black\" d=\"M537.53,-90.14C547.8,-91.79 557.66,-93.37 566.45,-94.79\"/>\n<polygon fill=\"black\" stroke=\"black\" points=\"566.16,-98.28 576.59,-96.42 567.27,-91.37 566.16,-98.28\"/>\n</g>\n<!-- 134080569735296* -->\n<g id=\"node9\" class=\"node\">\n<title>134080569735296*</title>\n<ellipse fill=\"none\" stroke=\"black\" cx=\"263\" cy=\"-73.5\" rx=\"27\" ry=\"18\"/>\n<text text-anchor=\"middle\" x=\"263\" y=\"-69.8\" font-family=\"Times,serif\" font-size=\"14.00\">*</text>\n</g>\n<!-- 134080569735296*&#45;&gt;134080569735296 -->\n<g id=\"edge4\" class=\"edge\">\n<title>134080569735296*&#45;&gt;134080569735296</title>\n<path fill=\"none\" stroke=\"black\" d=\"M290.25,-73.5C298.43,-73.5 308.03,-73.5 318.31,-73.5\"/>\n<polygon fill=\"black\" stroke=\"black\" points=\"318.35,-77 328.35,-73.5 318.35,-70 318.35,-77\"/>\n</g>\n<!-- 134080569731216 -->\n<g id=\"node10\" class=\"node\">\n<title>134080569731216</title>\n<polygon fill=\"none\" stroke=\"black\" points=\"2,-165.5 2,-201.5 198,-201.5 198,-165.5 2,-165.5\"/>\n<text text-anchor=\"middle\" x=\"17\" y=\"-179.8\" font-family=\"Times,serif\" font-size=\"14.00\">x1</text>\n<polyline fill=\"none\" stroke=\"black\" points=\"32,-165.5 32,-201.5 \"/>\n<text text-anchor=\"middle\" x=\"72\" y=\"-179.8\" font-family=\"Times,serif\" font-size=\"14.00\">data 2.0000</text>\n<polyline fill=\"none\" stroke=\"black\" points=\"112,-165.5 112,-201.5 \"/>\n<text text-anchor=\"middle\" x=\"155\" y=\"-179.8\" font-family=\"Times,serif\" font-size=\"14.00\">grad &#45;1.5000</text>\n</g>\n<!-- 134080569731216&#45;&gt;134080569723968* -->\n<g id=\"edge22\" class=\"edge\">\n<title>134080569731216&#45;&gt;134080569723968*</title>\n<path fill=\"none\" stroke=\"black\" d=\"M172.53,-165.44C181.84,-162.67 191.2,-159.67 200,-156.5 210.53,-152.71 221.75,-147.9 231.72,-143.33\"/>\n<polygon fill=\"black\" stroke=\"black\" points=\"233.25,-146.48 240.82,-139.07 230.28,-140.14 233.25,-146.48\"/>\n</g>\n<!-- 134080569727376 -->\n<g id=\"node11\" class=\"node\">\n<title>134080569727376</title>\n<polygon fill=\"none\" stroke=\"black\" points=\"1670.5,-26.5 1670.5,-62.5 1856.5,-62.5 1856.5,-26.5 1670.5,-26.5\"/>\n<text text-anchor=\"middle\" x=\"1680.5\" y=\"-40.8\" font-family=\"Times,serif\" font-size=\"14.00\"> </text>\n<polyline fill=\"none\" stroke=\"black\" points=\"1690.5,-26.5 1690.5,-62.5 \"/>\n<text text-anchor=\"middle\" x=\"1730.5\" y=\"-40.8\" font-family=\"Times,serif\" font-size=\"14.00\">data 1.0000</text>\n<polyline fill=\"none\" stroke=\"black\" points=\"1770.5,-26.5 1770.5,-62.5 \"/>\n<text text-anchor=\"middle\" x=\"1813.5\" y=\"-40.8\" font-family=\"Times,serif\" font-size=\"14.00\">grad &#45;0.1036</text>\n</g>\n<!-- 134080569727376&#45;&gt;134080569721280+ -->\n<g id=\"edge24\" class=\"edge\">\n<title>134080569727376&#45;&gt;134080569721280+</title>\n<path fill=\"none\" stroke=\"black\" d=\"M1856.6,-60.6C1866.15,-62.26 1875.37,-63.88 1883.68,-65.33\"/>\n<polygon fill=\"black\" stroke=\"black\" points=\"1883.2,-68.8 1893.65,-67.07 1884.4,-61.9 1883.2,-68.8\"/>\n</g>\n<!-- 134080569721280 -->\n<g id=\"node12\" class=\"node\">\n<title>134080569721280</title>\n<polygon fill=\"none\" stroke=\"black\" points=\"1983,-53.5 1983,-89.5 2169,-89.5 2169,-53.5 1983,-53.5\"/>\n<text text-anchor=\"middle\" x=\"1993\" y=\"-67.8\" font-family=\"Times,serif\" font-size=\"14.00\"> </text>\n<polyline fill=\"none\" stroke=\"black\" points=\"2003,-53.5 2003,-89.5 \"/>\n<text text-anchor=\"middle\" x=\"2043\" y=\"-67.8\" font-family=\"Times,serif\" font-size=\"14.00\">data 6.8284</text>\n<polyline fill=\"none\" stroke=\"black\" points=\"2083,-53.5 2083,-89.5 \"/>\n<text text-anchor=\"middle\" x=\"2126\" y=\"-67.8\" font-family=\"Times,serif\" font-size=\"14.00\">grad &#45;0.1036</text>\n</g>\n<!-- 134080569721280&#45;&gt;134080569731696**&#45;1 -->\n<g id=\"edge18\" class=\"edge\">\n<title>134080569721280&#45;&gt;134080569731696**&#45;1</title>\n<path fill=\"none\" stroke=\"black\" d=\"M2169.14,-71.5C2200.72,-71.5 2234.24,-71.5 2258.74,-71.5\"/>\n<polygon fill=\"black\" stroke=\"black\" points=\"2258.98,-75 2268.98,-71.5 2258.98,-68 2258.98,-75\"/>\n</g>\n<!-- 134080569721280+&#45;&gt;134080569721280 -->\n<g id=\"edge5\" class=\"edge\">\n<title>134080569721280+&#45;&gt;134080569721280</title>\n<path fill=\"none\" stroke=\"black\" d=\"M1947.12,-71.5C1954.62,-71.5 1963.29,-71.5 1972.5,-71.5\"/>\n<polygon fill=\"black\" stroke=\"black\" points=\"1972.69,-75 1982.69,-71.5 1972.69,-68 1972.69,-75\"/>\n</g>\n<!-- 134080569729248 -->\n<g id=\"node14\" class=\"node\">\n<title>134080569729248</title>\n<polygon fill=\"none\" stroke=\"black\" points=\"666,-82.5 666,-118.5 925,-118.5 925,-82.5 666,-82.5\"/>\n<text text-anchor=\"middle\" x=\"712\" y=\"-96.8\" font-family=\"Times,serif\" font-size=\"14.00\">x1w1 + x2w2</text>\n<polyline fill=\"none\" stroke=\"black\" points=\"758,-82.5 758,-118.5 \"/>\n<text text-anchor=\"middle\" x=\"800.5\" y=\"-96.8\" font-family=\"Times,serif\" font-size=\"14.00\">data &#45;6.0000</text>\n<polyline fill=\"none\" stroke=\"black\" points=\"843,-82.5 843,-118.5 \"/>\n<text text-anchor=\"middle\" x=\"884\" y=\"-96.8\" font-family=\"Times,serif\" font-size=\"14.00\">grad 0.5000</text>\n</g>\n<!-- 134080569727808+ -->\n<g id=\"node19\" class=\"node\">\n<title>134080569727808+</title>\n<ellipse fill=\"none\" stroke=\"black\" cx=\"988\" cy=\"-72.5\" rx=\"27\" ry=\"18\"/>\n<text text-anchor=\"middle\" x=\"988\" y=\"-68.8\" font-family=\"Times,serif\" font-size=\"14.00\">+</text>\n</g>\n<!-- 134080569729248&#45;&gt;134080569727808+ -->\n<g id=\"edge12\" class=\"edge\">\n<title>134080569729248&#45;&gt;134080569727808+</title>\n<path fill=\"none\" stroke=\"black\" d=\"M919.03,-82.49C930.7,-80.77 941.77,-79.15 951.46,-77.72\"/>\n<polygon fill=\"black\" stroke=\"black\" points=\"952.01,-81.18 961.4,-76.26 951,-74.25 952.01,-81.18\"/>\n</g>\n<!-- 134080569729248+&#45;&gt;134080569729248 -->\n<g id=\"edge6\" class=\"edge\">\n<title>134080569729248+&#45;&gt;134080569729248</title>\n<path fill=\"none\" stroke=\"black\" d=\"M630.09,-100.5C637.58,-100.5 646.3,-100.5 655.75,-100.5\"/>\n<polygon fill=\"black\" stroke=\"black\" points=\"655.84,-104 665.84,-100.5 655.84,-97 655.84,-104\"/>\n</g>\n<!-- 134080569726176 -->\n<g id=\"node16\" class=\"node\">\n<title>134080569726176</title>\n<polygon fill=\"none\" stroke=\"black\" points=\"4,-55.5 4,-91.5 196,-91.5 196,-55.5 4,-55.5\"/>\n<text text-anchor=\"middle\" x=\"19\" y=\"-69.8\" font-family=\"Times,serif\" font-size=\"14.00\">x2</text>\n<polyline fill=\"none\" stroke=\"black\" points=\"34,-55.5 34,-91.5 \"/>\n<text text-anchor=\"middle\" x=\"74\" y=\"-69.8\" font-family=\"Times,serif\" font-size=\"14.00\">data 0.0000</text>\n<polyline fill=\"none\" stroke=\"black\" points=\"114,-55.5 114,-91.5 \"/>\n<text text-anchor=\"middle\" x=\"155\" y=\"-69.8\" font-family=\"Times,serif\" font-size=\"14.00\">grad 0.5000</text>\n</g>\n<!-- 134080569726176&#45;&gt;134080569735296* -->\n<g id=\"edge16\" class=\"edge\">\n<title>134080569726176&#45;&gt;134080569735296*</title>\n<path fill=\"none\" stroke=\"black\" d=\"M196.05,-73.5C206.52,-73.5 216.65,-73.5 225.71,-73.5\"/>\n<polygon fill=\"black\" stroke=\"black\" points=\"225.79,-77 235.79,-73.5 225.79,-70 225.79,-77\"/>\n</g>\n<!-- 134080569724160 -->\n<g id=\"node17\" class=\"node\">\n<title>134080569724160</title>\n<polygon fill=\"none\" stroke=\"black\" points=\"1052.5,-109.5 1052.5,-145.5 1234.5,-145.5 1234.5,-109.5 1052.5,-109.5\"/>\n<text text-anchor=\"middle\" x=\"1062.5\" y=\"-123.8\" font-family=\"Times,serif\" font-size=\"14.00\"> </text>\n<polyline fill=\"none\" stroke=\"black\" points=\"1072.5,-109.5 1072.5,-145.5 \"/>\n<text text-anchor=\"middle\" x=\"1112.5\" y=\"-123.8\" font-family=\"Times,serif\" font-size=\"14.00\">data 2.0000</text>\n<polyline fill=\"none\" stroke=\"black\" points=\"1152.5,-109.5 1152.5,-145.5 \"/>\n<text text-anchor=\"middle\" x=\"1193.5\" y=\"-123.8\" font-family=\"Times,serif\" font-size=\"14.00\">grad 0.2203</text>\n</g>\n<!-- 134080569723296* -->\n<g id=\"node24\" class=\"node\">\n<title>134080569723296*</title>\n<ellipse fill=\"none\" stroke=\"black\" cx=\"1299\" cy=\"-99.5\" rx=\"27\" ry=\"18\"/>\n<text text-anchor=\"middle\" x=\"1299\" y=\"-95.8\" font-family=\"Times,serif\" font-size=\"14.00\">*</text>\n</g>\n<!-- 134080569724160&#45;&gt;134080569723296* -->\n<g id=\"edge23\" class=\"edge\">\n<title>134080569724160&#45;&gt;134080569723296*</title>\n<path fill=\"none\" stroke=\"black\" d=\"M1234.68,-111.05C1244.61,-109.24 1254.23,-107.48 1262.84,-105.91\"/>\n<polygon fill=\"black\" stroke=\"black\" points=\"1263.6,-109.33 1272.81,-104.09 1262.35,-102.45 1263.6,-109.33\"/>\n</g>\n<!-- 134080569727808 -->\n<g id=\"node18\" class=\"node\">\n<title>134080569727808</title>\n<polygon fill=\"none\" stroke=\"black\" points=\"1051,-54.5 1051,-90.5 1236,-90.5 1236,-54.5 1051,-54.5\"/>\n<text text-anchor=\"middle\" x=\"1062.5\" y=\"-68.8\" font-family=\"Times,serif\" font-size=\"14.00\">n</text>\n<polyline fill=\"none\" stroke=\"black\" points=\"1074,-54.5 1074,-90.5 \"/>\n<text text-anchor=\"middle\" x=\"1114\" y=\"-68.8\" font-family=\"Times,serif\" font-size=\"14.00\">data 0.8814</text>\n<polyline fill=\"none\" stroke=\"black\" points=\"1154,-54.5 1154,-90.5 \"/>\n<text text-anchor=\"middle\" x=\"1195\" y=\"-68.8\" font-family=\"Times,serif\" font-size=\"14.00\">grad 0.5000</text>\n</g>\n<!-- 134080569727808&#45;&gt;134080569723296* -->\n<g id=\"edge11\" class=\"edge\">\n<title>134080569727808&#45;&gt;134080569723296*</title>\n<path fill=\"none\" stroke=\"black\" d=\"M1236.01,-88.6C1245.49,-90.26 1254.66,-91.88 1262.9,-93.33\"/>\n<polygon fill=\"black\" stroke=\"black\" points=\"1262.36,-96.78 1272.81,-95.07 1263.57,-89.89 1262.36,-96.78\"/>\n</g>\n<!-- 134080569727808+&#45;&gt;134080569727808 -->\n<g id=\"edge7\" class=\"edge\">\n<title>134080569727808+&#45;&gt;134080569727808</title>\n<path fill=\"none\" stroke=\"black\" d=\"M1015.04,-72.5C1022.58,-72.5 1031.3,-72.5 1040.57,-72.5\"/>\n<polygon fill=\"black\" stroke=\"black\" points=\"1040.81,-76 1050.81,-72.5 1040.81,-69 1040.81,-76\"/>\n</g>\n<!-- 134080569736544 -->\n<g id=\"node20\" class=\"node\">\n<title>134080569736544</title>\n<polygon fill=\"none\" stroke=\"black\" points=\"0,-110.5 0,-146.5 200,-146.5 200,-110.5 0,-110.5\"/>\n<text text-anchor=\"middle\" x=\"16.5\" y=\"-124.8\" font-family=\"Times,serif\" font-size=\"14.00\">w1</text>\n<polyline fill=\"none\" stroke=\"black\" points=\"33,-110.5 33,-146.5 \"/>\n<text text-anchor=\"middle\" x=\"75.5\" y=\"-124.8\" font-family=\"Times,serif\" font-size=\"14.00\">data &#45;3.0000</text>\n<polyline fill=\"none\" stroke=\"black\" points=\"118,-110.5 118,-146.5 \"/>\n<text text-anchor=\"middle\" x=\"159\" y=\"-124.8\" font-family=\"Times,serif\" font-size=\"14.00\">grad 1.0000</text>\n</g>\n<!-- 134080569736544&#45;&gt;134080569723968* -->\n<g id=\"edge19\" class=\"edge\">\n<title>134080569736544&#45;&gt;134080569723968*</title>\n<path fill=\"none\" stroke=\"black\" d=\"M200.21,-128.5C209.2,-128.5 217.86,-128.5 225.7,-128.5\"/>\n<polygon fill=\"black\" stroke=\"black\" points=\"225.85,-132 235.85,-128.5 225.85,-125 225.85,-132\"/>\n</g>\n<!-- 134080569732464 -->\n<g id=\"node21\" class=\"node\">\n<title>134080569732464</title>\n<polygon fill=\"none\" stroke=\"black\" points=\"2.5,-0.5 2.5,-36.5 197.5,-36.5 197.5,-0.5 2.5,-0.5\"/>\n<text text-anchor=\"middle\" x=\"19\" y=\"-14.8\" font-family=\"Times,serif\" font-size=\"14.00\">w2</text>\n<polyline fill=\"none\" stroke=\"black\" points=\"35.5,-0.5 35.5,-36.5 \"/>\n<text text-anchor=\"middle\" x=\"75.5\" y=\"-14.8\" font-family=\"Times,serif\" font-size=\"14.00\">data 1.0000</text>\n<polyline fill=\"none\" stroke=\"black\" points=\"115.5,-0.5 115.5,-36.5 \"/>\n<text text-anchor=\"middle\" x=\"156.5\" y=\"-14.8\" font-family=\"Times,serif\" font-size=\"14.00\">grad 0.0000</text>\n</g>\n<!-- 134080569732464&#45;&gt;134080569735296* -->\n<g id=\"edge14\" class=\"edge\">\n<title>134080569732464&#45;&gt;134080569735296*</title>\n<path fill=\"none\" stroke=\"black\" d=\"M172.53,-36.56C181.84,-39.33 191.2,-42.33 200,-45.5 210.53,-49.29 221.75,-54.1 231.72,-58.67\"/>\n<polygon fill=\"black\" stroke=\"black\" points=\"230.28,-61.86 240.82,-62.93 233.25,-55.52 230.28,-61.86\"/>\n</g>\n<!-- 134080569721232 -->\n<g id=\"node22\" class=\"node\">\n<title>134080569721232</title>\n<polygon fill=\"none\" stroke=\"black\" points=\"703,-27.5 703,-63.5 888,-63.5 888,-27.5 703,-27.5\"/>\n<text text-anchor=\"middle\" x=\"714.5\" y=\"-41.8\" font-family=\"Times,serif\" font-size=\"14.00\">b</text>\n<polyline fill=\"none\" stroke=\"black\" points=\"726,-27.5 726,-63.5 \"/>\n<text text-anchor=\"middle\" x=\"766\" y=\"-41.8\" font-family=\"Times,serif\" font-size=\"14.00\">data 6.8814</text>\n<polyline fill=\"none\" stroke=\"black\" points=\"806,-27.5 806,-63.5 \"/>\n<text text-anchor=\"middle\" x=\"847\" y=\"-41.8\" font-family=\"Times,serif\" font-size=\"14.00\">grad 0.5000</text>\n</g>\n<!-- 134080569721232&#45;&gt;134080569727808+ -->\n<g id=\"edge21\" class=\"edge\">\n<title>134080569721232&#45;&gt;134080569727808+</title>\n<path fill=\"none\" stroke=\"black\" d=\"M888.12,-58.49C910.59,-61.67 933.33,-64.89 951.33,-67.44\"/>\n<polygon fill=\"black\" stroke=\"black\" points=\"950.95,-70.93 961.34,-68.86 951.93,-63.99 950.95,-70.93\"/>\n</g>\n<!-- 134080569723296 -->\n<g id=\"node23\" class=\"node\">\n<title>134080569723296</title>\n<polygon fill=\"none\" stroke=\"black\" points=\"1362,-81.5 1362,-117.5 1544,-117.5 1544,-81.5 1362,-81.5\"/>\n<text text-anchor=\"middle\" x=\"1372\" y=\"-95.8\" font-family=\"Times,serif\" font-size=\"14.00\"> </text>\n<polyline fill=\"none\" stroke=\"black\" points=\"1382,-81.5 1382,-117.5 \"/>\n<text text-anchor=\"middle\" x=\"1422\" y=\"-95.8\" font-family=\"Times,serif\" font-size=\"14.00\">data 1.7627</text>\n<polyline fill=\"none\" stroke=\"black\" points=\"1462,-81.5 1462,-117.5 \"/>\n<text text-anchor=\"middle\" x=\"1503\" y=\"-95.8\" font-family=\"Times,serif\" font-size=\"14.00\">grad 0.2500</text>\n</g>\n<!-- 134080569723296&#45;&gt;134080569723440exp -->\n<g id=\"edge27\" class=\"edge\">\n<title>134080569723296&#45;&gt;134080569723440exp</title>\n<path fill=\"none\" stroke=\"black\" d=\"M1544.18,-99.5C1553.14,-99.5 1561.83,-99.5 1569.73,-99.5\"/>\n<polygon fill=\"black\" stroke=\"black\" points=\"1569.96,-103 1579.96,-99.5 1569.96,-96 1569.96,-103\"/>\n</g>\n<!-- 134080569723296*&#45;&gt;134080569723296 -->\n<g id=\"edge8\" class=\"edge\">\n<title>134080569723296*&#45;&gt;134080569723296</title>\n<path fill=\"none\" stroke=\"black\" d=\"M1326.13,-99.5C1333.67,-99.5 1342.39,-99.5 1351.64,-99.5\"/>\n<polygon fill=\"black\" stroke=\"black\" points=\"1351.87,-103 1361.87,-99.5 1351.87,-96 1351.87,-103\"/>\n</g>\n<!-- 134080569730496 -->\n<g id=\"node25\" class=\"node\">\n<title>134080569730496</title>\n<polygon fill=\"none\" stroke=\"black\" points=\"2731,-80.5 2731,-116.5 2913,-116.5 2913,-80.5 2731,-80.5\"/>\n<text text-anchor=\"middle\" x=\"2741\" y=\"-94.8\" font-family=\"Times,serif\" font-size=\"14.00\"> </text>\n<polyline fill=\"none\" stroke=\"black\" points=\"2751,-80.5 2751,-116.5 \"/>\n<text text-anchor=\"middle\" x=\"2791\" y=\"-94.8\" font-family=\"Times,serif\" font-size=\"14.00\">data 0.7071</text>\n<polyline fill=\"none\" stroke=\"black\" points=\"2831,-80.5 2831,-116.5 \"/>\n<text text-anchor=\"middle\" x=\"2872\" y=\"-94.8\" font-family=\"Times,serif\" font-size=\"14.00\">grad 1.0000</text>\n</g>\n<!-- 134080569730496*&#45;&gt;134080569730496 -->\n<g id=\"edge9\" class=\"edge\">\n<title>134080569730496*&#45;&gt;134080569730496</title>\n<path fill=\"none\" stroke=\"black\" d=\"M2695.13,-98.5C2702.67,-98.5 2711.39,-98.5 2720.64,-98.5\"/>\n<polygon fill=\"black\" stroke=\"black\" points=\"2720.87,-102 2730.87,-98.5 2720.87,-95 2720.87,-102\"/>\n</g>\n<!-- 134080569725408 -->\n<g id=\"node27\" class=\"node\">\n<title>134080569725408</title>\n<polygon fill=\"none\" stroke=\"black\" points=\"2205,-108.5 2205,-144.5 2387,-144.5 2387,-108.5 2205,-108.5\"/>\n<text text-anchor=\"middle\" x=\"2215\" y=\"-122.8\" font-family=\"Times,serif\" font-size=\"14.00\"> </text>\n<polyline fill=\"none\" stroke=\"black\" points=\"2225,-108.5 2225,-144.5 \"/>\n<text text-anchor=\"middle\" x=\"2265\" y=\"-122.8\" font-family=\"Times,serif\" font-size=\"14.00\">data 4.8284</text>\n<polyline fill=\"none\" stroke=\"black\" points=\"2305,-108.5 2305,-144.5 \"/>\n<text text-anchor=\"middle\" x=\"2346\" y=\"-122.8\" font-family=\"Times,serif\" font-size=\"14.00\">grad 0.1464</text>\n</g>\n<!-- 134080569725408&#45;&gt;134080569730496* -->\n<g id=\"edge26\" class=\"edge\">\n<title>134080569725408&#45;&gt;134080569730496*</title>\n<path fill=\"none\" stroke=\"black\" d=\"M2387.31,-119.9C2448.7,-115.37 2531.76,-109.19 2605,-103.5 2613.42,-102.85 2622.48,-102.13 2631.01,-101.44\"/>\n<polygon fill=\"black\" stroke=\"black\" points=\"2631.37,-104.92 2641.06,-100.63 2630.81,-97.94 2631.37,-104.92\"/>\n</g>\n<!-- 134080569725408+&#45;&gt;134080569725408 -->\n<g id=\"edge10\" class=\"edge\">\n<title>134080569725408+&#45;&gt;134080569725408</title>\n<path fill=\"none\" stroke=\"black\" d=\"M1947,-126.5C1997.46,-126.5 2111.06,-126.5 2194.81,-126.5\"/>\n<polygon fill=\"black\" stroke=\"black\" points=\"2194.87,-130 2204.87,-126.5 2194.87,-123 2194.87,-130\"/>\n</g>\n</g>\n</svg>\n",
            "text/plain": [
              "<graphviz.graphs.Digraph at 0x79f210bae590>"
            ]
          },
          "metadata": {},
          "execution_count": 35
        }
      ]
    },
    {
      "cell_type": "code",
      "source": [
        "o.backward()\n",
        "draw_dot(o)"
      ],
      "metadata": {
        "colab": {
          "base_uri": "https://localhost:8080/",
          "height": 321
        },
        "id": "bjV2jiIotdQK",
        "outputId": "36c7e22d-171b-42ea-aae4-c8b2624abbbd"
      },
      "execution_count": null,
      "outputs": [
        {
          "output_type": "execute_result",
          "data": {
            "image/svg+xml": "<?xml version=\"1.0\" encoding=\"UTF-8\" standalone=\"no\"?>\n<!DOCTYPE svg PUBLIC \"-//W3C//DTD SVG 1.1//EN\"\n \"http://www.w3.org/Graphics/SVG/1.1/DTD/svg11.dtd\">\n<!-- Generated by graphviz version 2.43.0 (0)\n -->\n<!-- Title: %3 Pages: 1 -->\n<svg width=\"1555pt\" height=\"210pt\"\n viewBox=\"0.00 0.00 1555.00 210.00\" xmlns=\"http://www.w3.org/2000/svg\" xmlns:xlink=\"http://www.w3.org/1999/xlink\">\n<g id=\"graph0\" class=\"graph\" transform=\"scale(1 1) rotate(0) translate(4 206)\">\n<title>%3</title>\n<polygon fill=\"white\" stroke=\"transparent\" points=\"-4,4 -4,-206 1551,-206 1551,4 -4,4\"/>\n<!-- 135980678810160 -->\n<g id=\"node1\" class=\"node\">\n<title>135980678810160</title>\n<polygon fill=\"none\" stroke=\"black\" points=\"328.5,-55.5 328.5,-91.5 537.5,-91.5 537.5,-55.5 328.5,-55.5\"/>\n<text text-anchor=\"middle\" x=\"352\" y=\"-69.8\" font-family=\"Times,serif\" font-size=\"14.00\">x2w2</text>\n<polyline fill=\"none\" stroke=\"black\" points=\"375.5,-55.5 375.5,-91.5 \"/>\n<text text-anchor=\"middle\" x=\"415.5\" y=\"-69.8\" font-family=\"Times,serif\" font-size=\"14.00\">data 0.0000</text>\n<polyline fill=\"none\" stroke=\"black\" points=\"455.5,-55.5 455.5,-91.5 \"/>\n<text text-anchor=\"middle\" x=\"496.5\" y=\"-69.8\" font-family=\"Times,serif\" font-size=\"14.00\">grad 0.5000</text>\n</g>\n<!-- 135980678808528+ -->\n<g id=\"node15\" class=\"node\">\n<title>135980678808528+</title>\n<ellipse fill=\"none\" stroke=\"black\" cx=\"603\" cy=\"-100.5\" rx=\"27\" ry=\"18\"/>\n<text text-anchor=\"middle\" x=\"603\" y=\"-96.8\" font-family=\"Times,serif\" font-size=\"14.00\">+</text>\n</g>\n<!-- 135980678810160&#45;&gt;135980678808528+ -->\n<g id=\"edge7\" class=\"edge\">\n<title>135980678810160&#45;&gt;135980678808528+</title>\n<path fill=\"none\" stroke=\"black\" d=\"M537.53,-90.14C547.8,-91.79 557.66,-93.37 566.45,-94.79\"/>\n<polygon fill=\"black\" stroke=\"black\" points=\"566.16,-98.28 576.59,-96.42 567.27,-91.37 566.16,-98.28\"/>\n</g>\n<!-- 135980678810160* -->\n<g id=\"node2\" class=\"node\">\n<title>135980678810160*</title>\n<ellipse fill=\"none\" stroke=\"black\" cx=\"263\" cy=\"-73.5\" rx=\"27\" ry=\"18\"/>\n<text text-anchor=\"middle\" x=\"263\" y=\"-69.8\" font-family=\"Times,serif\" font-size=\"14.00\">*</text>\n</g>\n<!-- 135980678810160*&#45;&gt;135980678810160 -->\n<g id=\"edge1\" class=\"edge\">\n<title>135980678810160*&#45;&gt;135980678810160</title>\n<path fill=\"none\" stroke=\"black\" d=\"M290.25,-73.5C298.43,-73.5 308.03,-73.5 318.31,-73.5\"/>\n<polygon fill=\"black\" stroke=\"black\" points=\"318.35,-77 328.35,-73.5 318.35,-70 318.35,-77\"/>\n</g>\n<!-- 135980679880256 -->\n<g id=\"node3\" class=\"node\">\n<title>135980679880256</title>\n<polygon fill=\"none\" stroke=\"black\" points=\"0,-165.5 0,-201.5 200,-201.5 200,-165.5 0,-165.5\"/>\n<text text-anchor=\"middle\" x=\"16.5\" y=\"-179.8\" font-family=\"Times,serif\" font-size=\"14.00\">w1</text>\n<polyline fill=\"none\" stroke=\"black\" points=\"33,-165.5 33,-201.5 \"/>\n<text text-anchor=\"middle\" x=\"75.5\" y=\"-179.8\" font-family=\"Times,serif\" font-size=\"14.00\">data &#45;3.0000</text>\n<polyline fill=\"none\" stroke=\"black\" points=\"118,-165.5 118,-201.5 \"/>\n<text text-anchor=\"middle\" x=\"159\" y=\"-179.8\" font-family=\"Times,serif\" font-size=\"14.00\">grad 1.0000</text>\n</g>\n<!-- 135980678817504* -->\n<g id=\"node9\" class=\"node\">\n<title>135980678817504*</title>\n<ellipse fill=\"none\" stroke=\"black\" cx=\"263\" cy=\"-128.5\" rx=\"27\" ry=\"18\"/>\n<text text-anchor=\"middle\" x=\"263\" y=\"-124.8\" font-family=\"Times,serif\" font-size=\"14.00\">*</text>\n</g>\n<!-- 135980679880256&#45;&gt;135980678817504* -->\n<g id=\"edge9\" class=\"edge\">\n<title>135980679880256&#45;&gt;135980678817504*</title>\n<path fill=\"none\" stroke=\"black\" d=\"M172.53,-165.44C181.84,-162.67 191.2,-159.67 200,-156.5 210.53,-152.71 221.75,-147.9 231.72,-143.33\"/>\n<polygon fill=\"black\" stroke=\"black\" points=\"233.25,-146.48 240.82,-139.07 230.28,-140.14 233.25,-146.48\"/>\n</g>\n<!-- 135980679887936 -->\n<g id=\"node4\" class=\"node\">\n<title>135980679887936</title>\n<polygon fill=\"none\" stroke=\"black\" points=\"2,-110.5 2,-146.5 198,-146.5 198,-110.5 2,-110.5\"/>\n<text text-anchor=\"middle\" x=\"17\" y=\"-124.8\" font-family=\"Times,serif\" font-size=\"14.00\">x1</text>\n<polyline fill=\"none\" stroke=\"black\" points=\"32,-110.5 32,-146.5 \"/>\n<text text-anchor=\"middle\" x=\"72\" y=\"-124.8\" font-family=\"Times,serif\" font-size=\"14.00\">data 2.0000</text>\n<polyline fill=\"none\" stroke=\"black\" points=\"112,-110.5 112,-146.5 \"/>\n<text text-anchor=\"middle\" x=\"155\" y=\"-124.8\" font-family=\"Times,serif\" font-size=\"14.00\">grad &#45;1.5000</text>\n</g>\n<!-- 135980679887936&#45;&gt;135980678817504* -->\n<g id=\"edge12\" class=\"edge\">\n<title>135980679887936&#45;&gt;135980678817504*</title>\n<path fill=\"none\" stroke=\"black\" d=\"M198.37,-128.5C208.05,-128.5 217.4,-128.5 225.8,-128.5\"/>\n<polygon fill=\"black\" stroke=\"black\" points=\"225.91,-132 235.91,-128.5 225.91,-125 225.91,-132\"/>\n</g>\n<!-- 135980679882848 -->\n<g id=\"node5\" class=\"node\">\n<title>135980679882848</title>\n<polygon fill=\"none\" stroke=\"black\" points=\"703,-137.5 703,-173.5 888,-173.5 888,-137.5 703,-137.5\"/>\n<text text-anchor=\"middle\" x=\"714.5\" y=\"-151.8\" font-family=\"Times,serif\" font-size=\"14.00\">b</text>\n<polyline fill=\"none\" stroke=\"black\" points=\"726,-137.5 726,-173.5 \"/>\n<text text-anchor=\"middle\" x=\"766\" y=\"-151.8\" font-family=\"Times,serif\" font-size=\"14.00\">data 6.8814</text>\n<polyline fill=\"none\" stroke=\"black\" points=\"806,-137.5 806,-173.5 \"/>\n<text text-anchor=\"middle\" x=\"847\" y=\"-151.8\" font-family=\"Times,serif\" font-size=\"14.00\">grad 0.5000</text>\n</g>\n<!-- 135980678822016+ -->\n<g id=\"node7\" class=\"node\">\n<title>135980678822016+</title>\n<ellipse fill=\"none\" stroke=\"black\" cx=\"988\" cy=\"-127.5\" rx=\"27\" ry=\"18\"/>\n<text text-anchor=\"middle\" x=\"988\" y=\"-123.8\" font-family=\"Times,serif\" font-size=\"14.00\">+</text>\n</g>\n<!-- 135980679882848&#45;&gt;135980678822016+ -->\n<g id=\"edge11\" class=\"edge\">\n<title>135980679882848&#45;&gt;135980678822016+</title>\n<path fill=\"none\" stroke=\"black\" d=\"M888.12,-142.03C910.59,-138.73 933.33,-135.39 951.33,-132.74\"/>\n<polygon fill=\"black\" stroke=\"black\" points=\"951.96,-136.19 961.34,-131.27 950.94,-129.26 951.96,-136.19\"/>\n</g>\n<!-- 135980678822016 -->\n<g id=\"node6\" class=\"node\">\n<title>135980678822016</title>\n<polygon fill=\"none\" stroke=\"black\" points=\"1051,-109.5 1051,-145.5 1236,-145.5 1236,-109.5 1051,-109.5\"/>\n<text text-anchor=\"middle\" x=\"1062.5\" y=\"-123.8\" font-family=\"Times,serif\" font-size=\"14.00\">n</text>\n<polyline fill=\"none\" stroke=\"black\" points=\"1074,-109.5 1074,-145.5 \"/>\n<text text-anchor=\"middle\" x=\"1114\" y=\"-123.8\" font-family=\"Times,serif\" font-size=\"14.00\">data 0.8814</text>\n<polyline fill=\"none\" stroke=\"black\" points=\"1154,-109.5 1154,-145.5 \"/>\n<text text-anchor=\"middle\" x=\"1195\" y=\"-123.8\" font-family=\"Times,serif\" font-size=\"14.00\">grad 0.5000</text>\n</g>\n<!-- 135980678809488tanh -->\n<g id=\"node13\" class=\"node\">\n<title>135980678809488tanh</title>\n<ellipse fill=\"none\" stroke=\"black\" cx=\"1299\" cy=\"-127.5\" rx=\"27\" ry=\"18\"/>\n<text text-anchor=\"middle\" x=\"1299\" y=\"-123.8\" font-family=\"Times,serif\" font-size=\"14.00\">tanh</text>\n</g>\n<!-- 135980678822016&#45;&gt;135980678809488tanh -->\n<g id=\"edge6\" class=\"edge\">\n<title>135980678822016&#45;&gt;135980678809488tanh</title>\n<path fill=\"none\" stroke=\"black\" d=\"M1236.01,-127.5C1245.01,-127.5 1253.74,-127.5 1261.66,-127.5\"/>\n<polygon fill=\"black\" stroke=\"black\" points=\"1261.91,-131 1271.91,-127.5 1261.91,-124 1261.91,-131\"/>\n</g>\n<!-- 135980678822016+&#45;&gt;135980678822016 -->\n<g id=\"edge2\" class=\"edge\">\n<title>135980678822016+&#45;&gt;135980678822016</title>\n<path fill=\"none\" stroke=\"black\" d=\"M1015.04,-127.5C1022.58,-127.5 1031.3,-127.5 1040.57,-127.5\"/>\n<polygon fill=\"black\" stroke=\"black\" points=\"1040.81,-131 1050.81,-127.5 1040.81,-124 1040.81,-131\"/>\n</g>\n<!-- 135980678817504 -->\n<g id=\"node8\" class=\"node\">\n<title>135980678817504</title>\n<polygon fill=\"none\" stroke=\"black\" points=\"326,-110.5 326,-146.5 540,-146.5 540,-110.5 326,-110.5\"/>\n<text text-anchor=\"middle\" x=\"349.5\" y=\"-124.8\" font-family=\"Times,serif\" font-size=\"14.00\">x1w1</text>\n<polyline fill=\"none\" stroke=\"black\" points=\"373,-110.5 373,-146.5 \"/>\n<text text-anchor=\"middle\" x=\"415.5\" y=\"-124.8\" font-family=\"Times,serif\" font-size=\"14.00\">data &#45;6.0000</text>\n<polyline fill=\"none\" stroke=\"black\" points=\"458,-110.5 458,-146.5 \"/>\n<text text-anchor=\"middle\" x=\"499\" y=\"-124.8\" font-family=\"Times,serif\" font-size=\"14.00\">grad 0.5000</text>\n</g>\n<!-- 135980678817504&#45;&gt;135980678808528+ -->\n<g id=\"edge13\" class=\"edge\">\n<title>135980678817504&#45;&gt;135980678808528+</title>\n<path fill=\"none\" stroke=\"black\" d=\"M540.4,-110.77C549.72,-109.21 558.65,-107.72 566.68,-106.39\"/>\n<polygon fill=\"black\" stroke=\"black\" points=\"567.38,-109.82 576.66,-104.72 566.22,-102.91 567.38,-109.82\"/>\n</g>\n<!-- 135980678817504*&#45;&gt;135980678817504 -->\n<g id=\"edge3\" class=\"edge\">\n<title>135980678817504*&#45;&gt;135980678817504</title>\n<path fill=\"none\" stroke=\"black\" d=\"M290.25,-128.5C297.7,-128.5 306.34,-128.5 315.59,-128.5\"/>\n<polygon fill=\"black\" stroke=\"black\" points=\"315.84,-132 325.84,-128.5 315.84,-125 315.84,-132\"/>\n</g>\n<!-- 135980679886112 -->\n<g id=\"node10\" class=\"node\">\n<title>135980679886112</title>\n<polygon fill=\"none\" stroke=\"black\" points=\"2.5,-55.5 2.5,-91.5 197.5,-91.5 197.5,-55.5 2.5,-55.5\"/>\n<text text-anchor=\"middle\" x=\"19\" y=\"-69.8\" font-family=\"Times,serif\" font-size=\"14.00\">w2</text>\n<polyline fill=\"none\" stroke=\"black\" points=\"35.5,-55.5 35.5,-91.5 \"/>\n<text text-anchor=\"middle\" x=\"75.5\" y=\"-69.8\" font-family=\"Times,serif\" font-size=\"14.00\">data 1.0000</text>\n<polyline fill=\"none\" stroke=\"black\" points=\"115.5,-55.5 115.5,-91.5 \"/>\n<text text-anchor=\"middle\" x=\"156.5\" y=\"-69.8\" font-family=\"Times,serif\" font-size=\"14.00\">grad 0.0000</text>\n</g>\n<!-- 135980679886112&#45;&gt;135980678810160* -->\n<g id=\"edge10\" class=\"edge\">\n<title>135980679886112&#45;&gt;135980678810160*</title>\n<path fill=\"none\" stroke=\"black\" d=\"M197.91,-73.5C207.65,-73.5 217.05,-73.5 225.52,-73.5\"/>\n<polygon fill=\"black\" stroke=\"black\" points=\"225.7,-77 235.7,-73.5 225.7,-70 225.7,-77\"/>\n</g>\n<!-- 135980679885200 -->\n<g id=\"node11\" class=\"node\">\n<title>135980679885200</title>\n<polygon fill=\"none\" stroke=\"black\" points=\"4,-0.5 4,-36.5 196,-36.5 196,-0.5 4,-0.5\"/>\n<text text-anchor=\"middle\" x=\"19\" y=\"-14.8\" font-family=\"Times,serif\" font-size=\"14.00\">x2</text>\n<polyline fill=\"none\" stroke=\"black\" points=\"34,-0.5 34,-36.5 \"/>\n<text text-anchor=\"middle\" x=\"74\" y=\"-14.8\" font-family=\"Times,serif\" font-size=\"14.00\">data 0.0000</text>\n<polyline fill=\"none\" stroke=\"black\" points=\"114,-0.5 114,-36.5 \"/>\n<text text-anchor=\"middle\" x=\"155\" y=\"-14.8\" font-family=\"Times,serif\" font-size=\"14.00\">grad 0.5000</text>\n</g>\n<!-- 135980679885200&#45;&gt;135980678810160* -->\n<g id=\"edge8\" class=\"edge\">\n<title>135980679885200&#45;&gt;135980678810160*</title>\n<path fill=\"none\" stroke=\"black\" d=\"M169.28,-36.5C179.65,-39.61 190.16,-42.98 200,-46.5 210.28,-50.17 221.28,-54.74 231.11,-59.07\"/>\n<polygon fill=\"black\" stroke=\"black\" points=\"229.93,-62.37 240.48,-63.27 232.79,-55.99 229.93,-62.37\"/>\n</g>\n<!-- 135980678809488 -->\n<g id=\"node12\" class=\"node\">\n<title>135980678809488</title>\n<polygon fill=\"none\" stroke=\"black\" points=\"1362,-109.5 1362,-145.5 1547,-145.5 1547,-109.5 1362,-109.5\"/>\n<text text-anchor=\"middle\" x=\"1373.5\" y=\"-123.8\" font-family=\"Times,serif\" font-size=\"14.00\">o</text>\n<polyline fill=\"none\" stroke=\"black\" points=\"1385,-109.5 1385,-145.5 \"/>\n<text text-anchor=\"middle\" x=\"1425\" y=\"-123.8\" font-family=\"Times,serif\" font-size=\"14.00\">data 0.7071</text>\n<polyline fill=\"none\" stroke=\"black\" points=\"1465,-109.5 1465,-145.5 \"/>\n<text text-anchor=\"middle\" x=\"1506\" y=\"-123.8\" font-family=\"Times,serif\" font-size=\"14.00\">grad 1.0000</text>\n</g>\n<!-- 135980678809488tanh&#45;&gt;135980678809488 -->\n<g id=\"edge4\" class=\"edge\">\n<title>135980678809488tanh&#45;&gt;135980678809488</title>\n<path fill=\"none\" stroke=\"black\" d=\"M1326.04,-127.5C1333.58,-127.5 1342.3,-127.5 1351.57,-127.5\"/>\n<polygon fill=\"black\" stroke=\"black\" points=\"1351.81,-131 1361.81,-127.5 1351.81,-124 1351.81,-131\"/>\n</g>\n<!-- 135980678808528 -->\n<g id=\"node14\" class=\"node\">\n<title>135980678808528</title>\n<polygon fill=\"none\" stroke=\"black\" points=\"666,-82.5 666,-118.5 925,-118.5 925,-82.5 666,-82.5\"/>\n<text text-anchor=\"middle\" x=\"712\" y=\"-96.8\" font-family=\"Times,serif\" font-size=\"14.00\">x1w1 + x2w2</text>\n<polyline fill=\"none\" stroke=\"black\" points=\"758,-82.5 758,-118.5 \"/>\n<text text-anchor=\"middle\" x=\"800.5\" y=\"-96.8\" font-family=\"Times,serif\" font-size=\"14.00\">data &#45;6.0000</text>\n<polyline fill=\"none\" stroke=\"black\" points=\"843,-82.5 843,-118.5 \"/>\n<text text-anchor=\"middle\" x=\"884\" y=\"-96.8\" font-family=\"Times,serif\" font-size=\"14.00\">grad 0.5000</text>\n</g>\n<!-- 135980678808528&#45;&gt;135980678822016+ -->\n<g id=\"edge14\" class=\"edge\">\n<title>135980678808528&#45;&gt;135980678822016+</title>\n<path fill=\"none\" stroke=\"black\" d=\"M923.57,-118.51C933.55,-119.92 943,-121.26 951.42,-122.46\"/>\n<polygon fill=\"black\" stroke=\"black\" points=\"951.09,-125.95 961.48,-123.88 952.07,-119.01 951.09,-125.95\"/>\n</g>\n<!-- 135980678808528+&#45;&gt;135980678808528 -->\n<g id=\"edge5\" class=\"edge\">\n<title>135980678808528+&#45;&gt;135980678808528</title>\n<path fill=\"none\" stroke=\"black\" d=\"M630.09,-100.5C637.58,-100.5 646.3,-100.5 655.75,-100.5\"/>\n<polygon fill=\"black\" stroke=\"black\" points=\"655.84,-104 665.84,-100.5 655.84,-97 655.84,-104\"/>\n</g>\n</g>\n</svg>\n",
            "text/plain": [
              "<graphviz.graphs.Digraph at 0x7bac780b5f00>"
            ]
          },
          "metadata": {},
          "execution_count": 98
        }
      ]
    },
    {
      "cell_type": "code",
      "source": [
        "import torch\n",
        "\n",
        "x1 = torch.tensor([2.0]).double(); x1.requires_grad = True\n",
        "x2 = torch.tensor([0.0]).double(); x2.requires_grad = True\n",
        "w1 = torch.tensor([-3.0]).double(); w1.requires_grad = True\n",
        "w2 = torch.tensor([1.0]).double(); w2.requires_grad = True\n",
        "\n",
        "b = torch.tensor([6.8813735870195432]).double(); b.requires_grad = True\n",
        "n = x1*w1 + x2*w2 + b\n",
        "o = torch.tanh(n)"
      ],
      "metadata": {
        "id": "WfDhowHZtzyZ",
        "collapsed": true
      },
      "execution_count": null,
      "outputs": []
    },
    {
      "cell_type": "code",
      "source": [
        "print(o.data.item())\n",
        "o.backward()\n",
        "\n",
        "print('---')\n",
        "print('x2', x2.grad.item())\n",
        "print('w2', w2.grad.item())\n",
        "print('x1', x1.grad.item())\n",
        "print('w1', w1.grad.item())"
      ],
      "metadata": {
        "colab": {
          "base_uri": "https://localhost:8080/"
        },
        "id": "IIy3mmwY0yT1",
        "outputId": "a847eb8f-cbef-4dbb-b8da-87ab225f8da7"
      },
      "execution_count": null,
      "outputs": [
        {
          "output_type": "stream",
          "name": "stdout",
          "text": [
            "0.7071066904050358\n",
            "---\n",
            "x2 0.5000001283844369\n",
            "w2 0.0\n",
            "x1 -1.5000003851533106\n",
            "w1 1.0000002567688737\n"
          ]
        }
      ]
    },
    {
      "cell_type": "code",
      "source": [
        "import random"
      ],
      "metadata": {
        "id": "6ZzPI60r8D-Y"
      },
      "execution_count": null,
      "outputs": []
    },
    {
      "cell_type": "code",
      "source": [
        "class Neuron:\n",
        "  def __init__(self, nin):\n",
        "    self.w = [Value(random.uniform(-1,1)) for _ in range(nin)]\n",
        "    self.b = Value(random.uniform(-1,1))\n",
        "\n",
        "  def __call__(self,x):\n",
        "    # w * x + b\n",
        "    act = sum((wi*xi for wi, xi in zip(self.w,x)),self.b)\n",
        "    out = act.tanh()\n",
        "    return out\n",
        "\n",
        "  def parameters(self):\n",
        "    return self.w + [self.b]\n",
        "\n",
        "class Layer:\n",
        "  def __init__(self,nin,nout):\n",
        "    self.neurons = [Neuron(nin) for _ in range(nout)]\n",
        "\n",
        "  def __call__(self,x):\n",
        "    outs = [n(x) for n in self.neurons]\n",
        "    return outs[0] if len(outs) == 1 else outs\n",
        "\n",
        "  def parameters(self):\n",
        "    return [p for neuron in self.neurons for p in neuron.parameters()]\n",
        "\n",
        "class MLP:\n",
        "  def __init__(self,nin,nouts):\n",
        "    sz = [nin] + nouts\n",
        "    self.layers = [Layer(sz[i],sz[i+1]) for i in range(len(nouts))]\n",
        "\n",
        "  def __call__(self,x):\n",
        "    for layer in self.layers:\n",
        "      x = layer(x)\n",
        "    return x\n",
        "\n",
        "  def parameters(self):\n",
        "    return [p for layer in self.layers for p in layer.parameters()]"
      ],
      "metadata": {
        "id": "jqv-rsE105Ea"
      },
      "execution_count": null,
      "outputs": []
    },
    {
      "cell_type": "code",
      "source": [
        "x = [2.0, 3.0, -1.0]\n",
        "n = MLP(3,[4,4,1])\n",
        "n(x)"
      ],
      "metadata": {
        "colab": {
          "base_uri": "https://localhost:8080/"
        },
        "id": "92crF3tE89bX",
        "outputId": "e467af1c-13d8-4251-c066-7dd50738ae5a"
      },
      "execution_count": null,
      "outputs": [
        {
          "output_type": "execute_result",
          "data": {
            "text/plain": [
              "Value(-0.5749950190744362)"
            ]
          },
          "metadata": {},
          "execution_count": 142
        }
      ]
    },
    {
      "cell_type": "code",
      "source": [
        "xs = [\n",
        "    [2.0, 3.0, -1.0],\n",
        "    [3.0, -1.0, 0.5],\n",
        "    [0.5, 1.0, 1.0],\n",
        "    [1.0, 1.0, -1.0]\n",
        "]\n",
        "ys = [1.0, -1.0, -1.0, 1.0]"
      ],
      "metadata": {
        "id": "aKzolhZi9Eon"
      },
      "execution_count": null,
      "outputs": []
    },
    {
      "cell_type": "code",
      "source": [
        "ypred = [n(x) for x in xs]\n",
        "print(ypred)\n",
        "loss = sum((yout - ygt)**2 for ygt, yout in zip(ys,ypred))\n",
        "print(loss)"
      ],
      "metadata": {
        "colab": {
          "base_uri": "https://localhost:8080/"
        },
        "id": "FzFi3bcyLCK9",
        "outputId": "df75f779-78f8-4542-b83a-d61af4dce010"
      },
      "execution_count": null,
      "outputs": [
        {
          "output_type": "stream",
          "name": "stdout",
          "text": [
            "[Value(0.5204853035235018), Value(0.1843240906330367), Value(0.2612522926129056), Value(0.3628998696654306)]\n",
            "Value(3.6292118174843537)\n"
          ]
        }
      ]
    },
    {
      "cell_type": "code",
      "source": [
        "loss.backward()"
      ],
      "metadata": {
        "id": "Kem50ueHFHaO"
      },
      "execution_count": null,
      "outputs": []
    },
    {
      "cell_type": "code",
      "source": [
        "n.layers[0].neurons[0].w[0].data"
      ],
      "metadata": {
        "colab": {
          "base_uri": "https://localhost:8080/"
        },
        "id": "V63Ijo57KVoM",
        "outputId": "1abaee61-c15f-489c-bb60-ef69fd6f40d5"
      },
      "execution_count": null,
      "outputs": [
        {
          "output_type": "execute_result",
          "data": {
            "text/plain": [
              "0.7378803805271011"
            ]
          },
          "metadata": {},
          "execution_count": 166
        }
      ]
    },
    {
      "cell_type": "code",
      "source": [
        "for p in n.parameters():\n",
        "  p.data += -0.01 * p.grad"
      ],
      "metadata": {
        "id": "sLEnmu21JpXF"
      },
      "execution_count": null,
      "outputs": []
    },
    {
      "cell_type": "code",
      "source": [
        "for k in range(20):\n",
        "  ypred = [n(x) for x in xs]\n",
        "  loss = sum((yout - ygt)**2 for ygt, yout in zip(ys,ypred))\n",
        "  for p in n.parameters():\n",
        "    p.grad = 0.0\n",
        "  loss.backward()\n",
        "  for p in n.parameters():\n",
        "    p.data += -0.01 * p.grad\n",
        "\n",
        "  print(k, loss.data)"
      ],
      "metadata": {
        "colab": {
          "base_uri": "https://localhost:8080/"
        },
        "id": "jXCvvShOKN5c",
        "outputId": "3a964c92-792c-42dc-e188-2db6204e99da"
      },
      "execution_count": null,
      "outputs": [
        {
          "output_type": "stream",
          "name": "stdout",
          "text": [
            "0 6.113997489555922e-05\n",
            "1 6.113419051550076e-05\n",
            "2 6.112840742858428e-05\n",
            "3 6.112262563434971e-05\n",
            "4 6.111684513233928e-05\n",
            "5 6.111106592209202e-05\n",
            "6 6.110528800314959e-05\n",
            "7 6.109951137505259e-05\n",
            "8 6.109373603734324e-05\n",
            "9 6.108796198956335e-05\n",
            "10 6.108218923125322e-05\n",
            "11 6.107641776195559e-05\n",
            "12 6.107064758121333e-05\n",
            "13 6.106487868856903e-05\n",
            "14 6.105911108356501e-05\n",
            "15 6.105334476574269e-05\n",
            "16 6.104757973464877e-05\n",
            "17 6.104181598982371e-05\n",
            "18 6.103605353081036e-05\n",
            "19 6.103029235715547e-05\n"
          ]
        }
      ]
    },
    {
      "cell_type": "code",
      "source": [
        "ypred"
      ],
      "metadata": {
        "colab": {
          "base_uri": "https://localhost:8080/"
        },
        "id": "awi4O1SkN3V9",
        "outputId": "7280df3a-c3b6-425e-8615-03bcaa7ec1d3"
      },
      "execution_count": null,
      "outputs": [
        {
          "output_type": "execute_result",
          "data": {
            "text/plain": [
              "[Value(0.9936522657380437),\n",
              " Value(-0.9999440617636767),\n",
              " Value(-0.9999104620379338),\n",
              " Value(0.9954474824587041)]"
            ]
          },
          "metadata": {},
          "execution_count": 176
        }
      ]
    },
    {
      "cell_type": "code",
      "source": [],
      "metadata": {
        "id": "Desc4TCuOZvr"
      },
      "execution_count": null,
      "outputs": []
    }
  ]
}